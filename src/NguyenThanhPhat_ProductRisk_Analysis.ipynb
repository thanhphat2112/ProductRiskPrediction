{
 "cells": [
  {
   "cell_type": "markdown",
   "id": "d8a5cad9",
   "metadata": {
    "papermill": {
     "duration": 0.047778,
     "end_time": "2022-05-29T14:45:57.235606",
     "exception": false,
     "start_time": "2022-05-29T14:45:57.187828",
     "status": "completed"
    },
    "tags": []
   },
   "source": [
    "## Product Risk in Manufacturing Industry\n",
    "\n",
    "In the manufacturing industry, the risk of every product needs to be monitored. On this project, we will build a ML/DL model that can classify a product as \"LOW\" or \"HIGH\" risk. Each sample (or row) in the provided data corresponds to a product, contain all information related to the product along with its label (column name ‘label’)"
   ]
  },
  {
   "cell_type": "markdown",
   "id": "c238f95e",
   "metadata": {
    "papermill": {
     "duration": 0.045635,
     "end_time": "2022-05-29T14:45:57.328618",
     "exception": false,
     "start_time": "2022-05-29T14:45:57.282983",
     "status": "completed"
    },
    "tags": []
   },
   "source": [
    "### Table of contents:\n",
    "***1. Import***\n",
    "\n",
    "    1.1. Import of Required Modules\n",
    "    \n",
    "***2. Exploratory Data Analysis (EDA)***\n",
    "\n",
    "    2.1. Data Importation\n",
    "    \n",
    "    2.2. Data Visualization \n",
    "\n",
    "***3. Data Cleaning*** \n",
    "\n",
    "***4. Feature Engineering / Feature Selection***\n",
    "\n",
    "***5. Machine Learning Models***\n",
    "\n",
    "***6. Evaluate & Interpret Results*** \n",
    "\n",
    "    6.1. Cross Validation\n",
    "\n",
    "    6.2. Grid search\n",
    "\n",
    "    6.3. Confusion Matrix\n",
    "\n",
    "    6.4. Additional metrics (precision, recall, F-measure)\n",
    "\n",
    "    6.5. ROC Curve and AUC Score\n",
    "\n",
    "    6.6. Ensembling:\n",
    "    \n",
    "        6.6.1. Random Forests\n",
    "\n",
    "        6.6.2. Voting Classifier\n",
    "\n",
    "        6.6.3. Bagging\n",
    "\n",
    "        6.6.4. Boosting\n",
    "\n",
    "    6.7. Neural networks (deep learning)\n",
    "\n",
    "    6.8. Pipeline\n",
    "\n",
    "***7. Creating Submission File***"
   ]
  },
  {
   "cell_type": "markdown",
   "id": "1483a3b5",
   "metadata": {
    "papermill": {
     "duration": 0.048872,
     "end_time": "2022-05-29T14:45:57.423427",
     "exception": false,
     "start_time": "2022-05-29T14:45:57.374555",
     "status": "completed"
    },
    "tags": []
   },
   "source": [
    "## 1. Import"
   ]
  },
  {
   "cell_type": "markdown",
   "id": "dc0018d4",
   "metadata": {
    "papermill": {
     "duration": 0.046852,
     "end_time": "2022-05-29T14:45:57.516380",
     "exception": false,
     "start_time": "2022-05-29T14:45:57.469528",
     "status": "completed"
    },
    "tags": []
   },
   "source": [
    "### 1.1. Import of Required Modules"
   ]
  },
  {
   "cell_type": "code",
   "execution_count": 3,
   "id": "7b81e22d",
   "metadata": {
    "papermill": {
     "duration": 1.355801,
     "end_time": "2022-05-29T14:45:58.917117",
     "exception": false,
     "start_time": "2022-05-29T14:45:57.561316",
     "status": "completed"
    },
    "tags": []
   },
   "outputs": [],
   "source": [
    "# data analysis libraries\n",
    "import os\n",
    "import numpy as np \n",
    "import pandas as pd\n",
    "\n",
    "# visualization libraries\n",
    "import matplotlib.pyplot as plt\n",
    "import seaborn as sns\n",
    "plt.style.use('fivethirtyeight')\n",
    "%matplotlib inline\n",
    "\n",
    "# ignore warnings\n",
    "import warnings\n",
    "warnings.filterwarnings('ignore')"
   ]
  },
  {
   "cell_type": "markdown",
   "id": "1d9affc7",
   "metadata": {
    "papermill": {
     "duration": 0.04399,
     "end_time": "2022-05-29T14:45:59.321118",
     "exception": false,
     "start_time": "2022-05-29T14:45:59.277128",
     "status": "completed"
    },
    "tags": []
   },
   "source": [
    "## 2. Exploratory Data Analysis (EDA)\n",
    "Import and looking at the insight of data ."
   ]
  },
  {
   "cell_type": "markdown",
   "id": "5c901cd0",
   "metadata": {
    "papermill": {
     "duration": 0.044751,
     "end_time": "2022-05-29T14:45:59.007237",
     "exception": false,
     "start_time": "2022-05-29T14:45:58.962486",
     "status": "completed"
    },
    "tags": []
   },
   "source": [
    "### 2.1. Importing Data"
   ]
  },
  {
   "cell_type": "code",
   "execution_count": 8,
   "id": "34dccbe2-c3e4-4116-86ee-1e2cdbf2e44d",
   "metadata": {},
   "outputs": [],
   "source": [
    "base_dir = \"../data\"\n",
    "train_data = os.path.join(base_dir, \"train.csv\")\n",
    "test_data = os.path.join(base_dir, \"test.csv\")"
   ]
  },
  {
   "cell_type": "code",
   "execution_count": 9,
   "id": "d914d6bb",
   "metadata": {
    "papermill": {
     "duration": 0.070781,
     "end_time": "2022-05-29T14:45:59.122945",
     "exception": false,
     "start_time": "2022-05-29T14:45:59.052164",
     "status": "completed"
    },
    "tags": []
   },
   "outputs": [],
   "source": [
    "train_df = pd.read_csv(train_data)"
   ]
  },
  {
   "cell_type": "code",
   "execution_count": 10,
   "id": "731c7cff",
   "metadata": {
    "papermill": {
     "duration": 0.062526,
     "end_time": "2022-05-29T14:45:59.230952",
     "exception": false,
     "start_time": "2022-05-29T14:45:59.168426",
     "status": "completed"
    },
    "tags": []
   },
   "outputs": [],
   "source": [
    "test_df = pd.read_csv(test_data)"
   ]
  },
  {
   "cell_type": "code",
   "execution_count": 30,
   "id": "07a64e08-6d2f-401b-b161-4a7b9a545390",
   "metadata": {},
   "outputs": [],
   "source": [
    "column_names = list(train_df.columns)"
   ]
  },
  {
   "cell_type": "code",
   "execution_count": 14,
   "id": "5b93272c-e6f6-4e7a-8c0a-db58506dcafd",
   "metadata": {},
   "outputs": [
    {
     "data": {
      "text/html": [
       "<div>\n",
       "<style scoped>\n",
       "    .dataframe tbody tr th:only-of-type {\n",
       "        vertical-align: middle;\n",
       "    }\n",
       "\n",
       "    .dataframe tbody tr th {\n",
       "        vertical-align: top;\n",
       "    }\n",
       "\n",
       "    .dataframe thead th {\n",
       "        text-align: right;\n",
       "    }\n",
       "</style>\n",
       "<table border=\"1\" class=\"dataframe\">\n",
       "  <thead>\n",
       "    <tr style=\"text-align: right;\">\n",
       "      <th></th>\n",
       "      <th>index</th>\n",
       "      <th>hashed_factory_id</th>\n",
       "      <th>country</th>\n",
       "      <th>hashed_type_of_inspection</th>\n",
       "      <th>style_number</th>\n",
       "      <th>item_number</th>\n",
       "      <th>brand_number</th>\n",
       "      <th>factory_inspection_fail_rate_30</th>\n",
       "      <th>factory_inspection_fail_rate_60</th>\n",
       "      <th>factory_inspection_fail_rate_90</th>\n",
       "      <th>...</th>\n",
       "      <th>factory_product_measurement_major_defect_rate_60</th>\n",
       "      <th>factory_product_measurement_major_defect_rate_90</th>\n",
       "      <th>factory_product_measurement_major_defect_rate_120</th>\n",
       "      <th>factory_product_measurement_major_defect_rate_150</th>\n",
       "      <th>factory_product_measurement_minor_defect_rate_30</th>\n",
       "      <th>factory_product_measurement_minor_defect_rate_60</th>\n",
       "      <th>factory_product_measurement_minor_defect_rate_90</th>\n",
       "      <th>factory_product_measurement_minor_defect_rate_120</th>\n",
       "      <th>factory_product_measurement_minor_defect_rate_150</th>\n",
       "      <th>label</th>\n",
       "    </tr>\n",
       "  </thead>\n",
       "  <tbody>\n",
       "    <tr>\n",
       "      <th>0</th>\n",
       "      <td>7</td>\n",
       "      <td>009f006e3799f9fe96a0c95e944df3e669f02d4e</td>\n",
       "      <td>Vietnam</td>\n",
       "      <td>e06d28d1365467625ebfa999328501705a3398bb</td>\n",
       "      <td>1</td>\n",
       "      <td>8</td>\n",
       "      <td>1.0</td>\n",
       "      <td>0.0</td>\n",
       "      <td>0.032258</td>\n",
       "      <td>0.028571</td>\n",
       "      <td>...</td>\n",
       "      <td>0.0</td>\n",
       "      <td>0.0</td>\n",
       "      <td>0.0</td>\n",
       "      <td>0.0</td>\n",
       "      <td>0.0</td>\n",
       "      <td>0.0</td>\n",
       "      <td>0.0</td>\n",
       "      <td>0.0</td>\n",
       "      <td>0.0</td>\n",
       "      <td>0</td>\n",
       "    </tr>\n",
       "    <tr>\n",
       "      <th>1</th>\n",
       "      <td>8</td>\n",
       "      <td>a9f2640fbd054cb52bf9411b7a42f668a9613197</td>\n",
       "      <td>Vietnam</td>\n",
       "      <td>e06d28d1365467625ebfa999328501705a3398bb</td>\n",
       "      <td>1</td>\n",
       "      <td>5</td>\n",
       "      <td>1.0</td>\n",
       "      <td>0.0</td>\n",
       "      <td>0.200000</td>\n",
       "      <td>0.035714</td>\n",
       "      <td>...</td>\n",
       "      <td>0.0</td>\n",
       "      <td>0.0</td>\n",
       "      <td>0.0</td>\n",
       "      <td>0.0</td>\n",
       "      <td>0.0</td>\n",
       "      <td>0.0</td>\n",
       "      <td>0.0</td>\n",
       "      <td>0.0</td>\n",
       "      <td>0.0</td>\n",
       "      <td>0</td>\n",
       "    </tr>\n",
       "    <tr>\n",
       "      <th>2</th>\n",
       "      <td>9</td>\n",
       "      <td>c0bffcf0318c483b2dbb1c56bed6efa58f9717bd</td>\n",
       "      <td>Pakistan</td>\n",
       "      <td>e06d28d1365467625ebfa999328501705a3398bb</td>\n",
       "      <td>1</td>\n",
       "      <td>8</td>\n",
       "      <td>NaN</td>\n",
       "      <td>0.0</td>\n",
       "      <td>0.000000</td>\n",
       "      <td>0.000000</td>\n",
       "      <td>...</td>\n",
       "      <td>0.0</td>\n",
       "      <td>0.0</td>\n",
       "      <td>0.0</td>\n",
       "      <td>0.0</td>\n",
       "      <td>0.0</td>\n",
       "      <td>0.0</td>\n",
       "      <td>0.0</td>\n",
       "      <td>0.0</td>\n",
       "      <td>0.0</td>\n",
       "      <td>0</td>\n",
       "    </tr>\n",
       "    <tr>\n",
       "      <th>3</th>\n",
       "      <td>10</td>\n",
       "      <td>c96f3f1c47dca83af551893a28c3409cb4afd31d</td>\n",
       "      <td>Guatemala</td>\n",
       "      <td>e06d28d1365467625ebfa999328501705a3398bb</td>\n",
       "      <td>2</td>\n",
       "      <td>12</td>\n",
       "      <td>1.0</td>\n",
       "      <td>0.0</td>\n",
       "      <td>0.000000</td>\n",
       "      <td>0.000000</td>\n",
       "      <td>...</td>\n",
       "      <td>0.0</td>\n",
       "      <td>0.0</td>\n",
       "      <td>0.0</td>\n",
       "      <td>0.0</td>\n",
       "      <td>0.0</td>\n",
       "      <td>0.0</td>\n",
       "      <td>0.0</td>\n",
       "      <td>0.0</td>\n",
       "      <td>0.0</td>\n",
       "      <td>0</td>\n",
       "    </tr>\n",
       "    <tr>\n",
       "      <th>4</th>\n",
       "      <td>11</td>\n",
       "      <td>63ffdba896c8bb150eca939d1eb7e3bd4e732ed4</td>\n",
       "      <td>Pakistan</td>\n",
       "      <td>e06d28d1365467625ebfa999328501705a3398bb</td>\n",
       "      <td>1</td>\n",
       "      <td>2</td>\n",
       "      <td>1.0</td>\n",
       "      <td>0.0</td>\n",
       "      <td>0.000000</td>\n",
       "      <td>0.000000</td>\n",
       "      <td>...</td>\n",
       "      <td>0.0</td>\n",
       "      <td>0.0</td>\n",
       "      <td>0.0</td>\n",
       "      <td>0.0</td>\n",
       "      <td>0.0</td>\n",
       "      <td>0.0</td>\n",
       "      <td>0.0</td>\n",
       "      <td>0.0</td>\n",
       "      <td>0.0</td>\n",
       "      <td>0</td>\n",
       "    </tr>\n",
       "    <tr>\n",
       "      <th>5</th>\n",
       "      <td>13</td>\n",
       "      <td>a0d2bafa4993944e93710293aac21fcddd529222</td>\n",
       "      <td>China</td>\n",
       "      <td>e06d28d1365467625ebfa999328501705a3398bb</td>\n",
       "      <td>1</td>\n",
       "      <td>12</td>\n",
       "      <td>1.0</td>\n",
       "      <td>0.0</td>\n",
       "      <td>0.000000</td>\n",
       "      <td>0.000000</td>\n",
       "      <td>...</td>\n",
       "      <td>0.0</td>\n",
       "      <td>0.0</td>\n",
       "      <td>0.0</td>\n",
       "      <td>0.0</td>\n",
       "      <td>0.0</td>\n",
       "      <td>0.0</td>\n",
       "      <td>0.0</td>\n",
       "      <td>0.0</td>\n",
       "      <td>0.0</td>\n",
       "      <td>0</td>\n",
       "    </tr>\n",
       "    <tr>\n",
       "      <th>6</th>\n",
       "      <td>14</td>\n",
       "      <td>3141d2a0354b0a13858a22de39567e93e2d76de2</td>\n",
       "      <td>Indonesia</td>\n",
       "      <td>e06d28d1365467625ebfa999328501705a3398bb</td>\n",
       "      <td>2</td>\n",
       "      <td>19</td>\n",
       "      <td>1.0</td>\n",
       "      <td>0.0</td>\n",
       "      <td>0.000000</td>\n",
       "      <td>0.000000</td>\n",
       "      <td>...</td>\n",
       "      <td>0.0</td>\n",
       "      <td>0.0</td>\n",
       "      <td>0.0</td>\n",
       "      <td>0.0</td>\n",
       "      <td>0.0</td>\n",
       "      <td>0.0</td>\n",
       "      <td>0.0</td>\n",
       "      <td>0.0</td>\n",
       "      <td>0.0</td>\n",
       "      <td>0</td>\n",
       "    </tr>\n",
       "    <tr>\n",
       "      <th>7</th>\n",
       "      <td>15</td>\n",
       "      <td>bdeed9c161923219d522077fd696d4549c512430</td>\n",
       "      <td>Indonesia</td>\n",
       "      <td>e06d28d1365467625ebfa999328501705a3398bb</td>\n",
       "      <td>1</td>\n",
       "      <td>10</td>\n",
       "      <td>1.0</td>\n",
       "      <td>0.0</td>\n",
       "      <td>0.000000</td>\n",
       "      <td>0.000000</td>\n",
       "      <td>...</td>\n",
       "      <td>0.0</td>\n",
       "      <td>0.0</td>\n",
       "      <td>0.0</td>\n",
       "      <td>0.0</td>\n",
       "      <td>0.0</td>\n",
       "      <td>0.0</td>\n",
       "      <td>0.0</td>\n",
       "      <td>0.0</td>\n",
       "      <td>0.0</td>\n",
       "      <td>0</td>\n",
       "    </tr>\n",
       "    <tr>\n",
       "      <th>8</th>\n",
       "      <td>16</td>\n",
       "      <td>673d21110f7951bfcee0f4a0336264e245cd6ce3</td>\n",
       "      <td>China</td>\n",
       "      <td>e06d28d1365467625ebfa999328501705a3398bb</td>\n",
       "      <td>3</td>\n",
       "      <td>40</td>\n",
       "      <td>1.0</td>\n",
       "      <td>0.0</td>\n",
       "      <td>0.000000</td>\n",
       "      <td>0.000000</td>\n",
       "      <td>...</td>\n",
       "      <td>0.0</td>\n",
       "      <td>0.0</td>\n",
       "      <td>0.0</td>\n",
       "      <td>0.0</td>\n",
       "      <td>0.0</td>\n",
       "      <td>0.0</td>\n",
       "      <td>0.0</td>\n",
       "      <td>0.0</td>\n",
       "      <td>0.0</td>\n",
       "      <td>0</td>\n",
       "    </tr>\n",
       "    <tr>\n",
       "      <th>9</th>\n",
       "      <td>17</td>\n",
       "      <td>8092cd73fd7ee3a3257f21d9b0cf415aa0c66ad4</td>\n",
       "      <td>Vietnam</td>\n",
       "      <td>e06d28d1365467625ebfa999328501705a3398bb</td>\n",
       "      <td>2</td>\n",
       "      <td>30</td>\n",
       "      <td>1.0</td>\n",
       "      <td>0.0</td>\n",
       "      <td>0.000000</td>\n",
       "      <td>0.000000</td>\n",
       "      <td>...</td>\n",
       "      <td>0.0</td>\n",
       "      <td>0.0</td>\n",
       "      <td>0.0</td>\n",
       "      <td>0.0</td>\n",
       "      <td>0.0</td>\n",
       "      <td>0.0</td>\n",
       "      <td>0.0</td>\n",
       "      <td>0.0</td>\n",
       "      <td>0.0</td>\n",
       "      <td>0</td>\n",
       "    </tr>\n",
       "  </tbody>\n",
       "</table>\n",
       "<p>10 rows × 156 columns</p>\n",
       "</div>"
      ],
      "text/plain": [
       "   index                         hashed_factory_id    country  \\\n",
       "0      7  009f006e3799f9fe96a0c95e944df3e669f02d4e    Vietnam   \n",
       "1      8  a9f2640fbd054cb52bf9411b7a42f668a9613197    Vietnam   \n",
       "2      9  c0bffcf0318c483b2dbb1c56bed6efa58f9717bd   Pakistan   \n",
       "3     10  c96f3f1c47dca83af551893a28c3409cb4afd31d  Guatemala   \n",
       "4     11  63ffdba896c8bb150eca939d1eb7e3bd4e732ed4   Pakistan   \n",
       "5     13  a0d2bafa4993944e93710293aac21fcddd529222      China   \n",
       "6     14  3141d2a0354b0a13858a22de39567e93e2d76de2  Indonesia   \n",
       "7     15  bdeed9c161923219d522077fd696d4549c512430  Indonesia   \n",
       "8     16  673d21110f7951bfcee0f4a0336264e245cd6ce3      China   \n",
       "9     17  8092cd73fd7ee3a3257f21d9b0cf415aa0c66ad4    Vietnam   \n",
       "\n",
       "                  hashed_type_of_inspection style_number item_number  \\\n",
       "0  e06d28d1365467625ebfa999328501705a3398bb            1           8   \n",
       "1  e06d28d1365467625ebfa999328501705a3398bb            1           5   \n",
       "2  e06d28d1365467625ebfa999328501705a3398bb            1           8   \n",
       "3  e06d28d1365467625ebfa999328501705a3398bb            2          12   \n",
       "4  e06d28d1365467625ebfa999328501705a3398bb            1           2   \n",
       "5  e06d28d1365467625ebfa999328501705a3398bb            1          12   \n",
       "6  e06d28d1365467625ebfa999328501705a3398bb            2          19   \n",
       "7  e06d28d1365467625ebfa999328501705a3398bb            1          10   \n",
       "8  e06d28d1365467625ebfa999328501705a3398bb            3          40   \n",
       "9  e06d28d1365467625ebfa999328501705a3398bb            2          30   \n",
       "\n",
       "  brand_number  factory_inspection_fail_rate_30  \\\n",
       "0          1.0                              0.0   \n",
       "1          1.0                              0.0   \n",
       "2          NaN                              0.0   \n",
       "3          1.0                              0.0   \n",
       "4          1.0                              0.0   \n",
       "5          1.0                              0.0   \n",
       "6          1.0                              0.0   \n",
       "7          1.0                              0.0   \n",
       "8          1.0                              0.0   \n",
       "9          1.0                              0.0   \n",
       "\n",
       "   factory_inspection_fail_rate_60  factory_inspection_fail_rate_90  ...  \\\n",
       "0                         0.032258                         0.028571  ...   \n",
       "1                         0.200000                         0.035714  ...   \n",
       "2                         0.000000                         0.000000  ...   \n",
       "3                         0.000000                         0.000000  ...   \n",
       "4                         0.000000                         0.000000  ...   \n",
       "5                         0.000000                         0.000000  ...   \n",
       "6                         0.000000                         0.000000  ...   \n",
       "7                         0.000000                         0.000000  ...   \n",
       "8                         0.000000                         0.000000  ...   \n",
       "9                         0.000000                         0.000000  ...   \n",
       "\n",
       "   factory_product_measurement_major_defect_rate_60  \\\n",
       "0                                               0.0   \n",
       "1                                               0.0   \n",
       "2                                               0.0   \n",
       "3                                               0.0   \n",
       "4                                               0.0   \n",
       "5                                               0.0   \n",
       "6                                               0.0   \n",
       "7                                               0.0   \n",
       "8                                               0.0   \n",
       "9                                               0.0   \n",
       "\n",
       "   factory_product_measurement_major_defect_rate_90  \\\n",
       "0                                               0.0   \n",
       "1                                               0.0   \n",
       "2                                               0.0   \n",
       "3                                               0.0   \n",
       "4                                               0.0   \n",
       "5                                               0.0   \n",
       "6                                               0.0   \n",
       "7                                               0.0   \n",
       "8                                               0.0   \n",
       "9                                               0.0   \n",
       "\n",
       "  factory_product_measurement_major_defect_rate_120  \\\n",
       "0                                               0.0   \n",
       "1                                               0.0   \n",
       "2                                               0.0   \n",
       "3                                               0.0   \n",
       "4                                               0.0   \n",
       "5                                               0.0   \n",
       "6                                               0.0   \n",
       "7                                               0.0   \n",
       "8                                               0.0   \n",
       "9                                               0.0   \n",
       "\n",
       "  factory_product_measurement_major_defect_rate_150  \\\n",
       "0                                               0.0   \n",
       "1                                               0.0   \n",
       "2                                               0.0   \n",
       "3                                               0.0   \n",
       "4                                               0.0   \n",
       "5                                               0.0   \n",
       "6                                               0.0   \n",
       "7                                               0.0   \n",
       "8                                               0.0   \n",
       "9                                               0.0   \n",
       "\n",
       "  factory_product_measurement_minor_defect_rate_30  \\\n",
       "0                                              0.0   \n",
       "1                                              0.0   \n",
       "2                                              0.0   \n",
       "3                                              0.0   \n",
       "4                                              0.0   \n",
       "5                                              0.0   \n",
       "6                                              0.0   \n",
       "7                                              0.0   \n",
       "8                                              0.0   \n",
       "9                                              0.0   \n",
       "\n",
       "   factory_product_measurement_minor_defect_rate_60  \\\n",
       "0                                               0.0   \n",
       "1                                               0.0   \n",
       "2                                               0.0   \n",
       "3                                               0.0   \n",
       "4                                               0.0   \n",
       "5                                               0.0   \n",
       "6                                               0.0   \n",
       "7                                               0.0   \n",
       "8                                               0.0   \n",
       "9                                               0.0   \n",
       "\n",
       "   factory_product_measurement_minor_defect_rate_90  \\\n",
       "0                                               0.0   \n",
       "1                                               0.0   \n",
       "2                                               0.0   \n",
       "3                                               0.0   \n",
       "4                                               0.0   \n",
       "5                                               0.0   \n",
       "6                                               0.0   \n",
       "7                                               0.0   \n",
       "8                                               0.0   \n",
       "9                                               0.0   \n",
       "\n",
       "   factory_product_measurement_minor_defect_rate_120  \\\n",
       "0                                                0.0   \n",
       "1                                                0.0   \n",
       "2                                                0.0   \n",
       "3                                                0.0   \n",
       "4                                                0.0   \n",
       "5                                                0.0   \n",
       "6                                                0.0   \n",
       "7                                                0.0   \n",
       "8                                                0.0   \n",
       "9                                                0.0   \n",
       "\n",
       "   factory_product_measurement_minor_defect_rate_150  label  \n",
       "0                                                0.0      0  \n",
       "1                                                0.0      0  \n",
       "2                                                0.0      0  \n",
       "3                                                0.0      0  \n",
       "4                                                0.0      0  \n",
       "5                                                0.0      0  \n",
       "6                                                0.0      0  \n",
       "7                                                0.0      0  \n",
       "8                                                0.0      0  \n",
       "9                                                0.0      0  \n",
       "\n",
       "[10 rows x 156 columns]"
      ]
     },
     "execution_count": 14,
     "metadata": {},
     "output_type": "execute_result"
    }
   ],
   "source": [
    "train_df.head(10)"
   ]
  },
  {
   "cell_type": "code",
   "execution_count": 23,
   "id": "1f62ea0a-f040-4c11-a70e-fb018de2a16b",
   "metadata": {},
   "outputs": [
    {
     "data": {
      "text/html": [
       "<div>\n",
       "<style scoped>\n",
       "    .dataframe tbody tr th:only-of-type {\n",
       "        vertical-align: middle;\n",
       "    }\n",
       "\n",
       "    .dataframe tbody tr th {\n",
       "        vertical-align: top;\n",
       "    }\n",
       "\n",
       "    .dataframe thead th {\n",
       "        text-align: right;\n",
       "    }\n",
       "</style>\n",
       "<table border=\"1\" class=\"dataframe\">\n",
       "  <thead>\n",
       "    <tr style=\"text-align: right;\">\n",
       "      <th></th>\n",
       "      <th>index</th>\n",
       "      <th>factory_inspection_fail_rate_30</th>\n",
       "      <th>factory_inspection_fail_rate_60</th>\n",
       "      <th>factory_inspection_fail_rate_90</th>\n",
       "      <th>factory_inspection_fail_rate_120</th>\n",
       "      <th>factory_inspection_fail_rate_150</th>\n",
       "      <th>product_available_quantity</th>\n",
       "      <th>product_ppm_1</th>\n",
       "      <th>product_ppm_2</th>\n",
       "      <th>product_ppm_3</th>\n",
       "      <th>...</th>\n",
       "      <th>factory_product_measurement_major_defect_rate_60</th>\n",
       "      <th>factory_product_measurement_major_defect_rate_90</th>\n",
       "      <th>factory_product_measurement_major_defect_rate_120</th>\n",
       "      <th>factory_product_measurement_major_defect_rate_150</th>\n",
       "      <th>factory_product_measurement_minor_defect_rate_30</th>\n",
       "      <th>factory_product_measurement_minor_defect_rate_60</th>\n",
       "      <th>factory_product_measurement_minor_defect_rate_90</th>\n",
       "      <th>factory_product_measurement_minor_defect_rate_120</th>\n",
       "      <th>factory_product_measurement_minor_defect_rate_150</th>\n",
       "      <th>label</th>\n",
       "    </tr>\n",
       "  </thead>\n",
       "  <tbody>\n",
       "    <tr>\n",
       "      <th>count</th>\n",
       "      <td>13293.000000</td>\n",
       "      <td>13293.000000</td>\n",
       "      <td>13293.000000</td>\n",
       "      <td>13293.000000</td>\n",
       "      <td>13293.000000</td>\n",
       "      <td>13293.000000</td>\n",
       "      <td>1.329300e+04</td>\n",
       "      <td>13293.000000</td>\n",
       "      <td>13293.000000</td>\n",
       "      <td>13293.000000</td>\n",
       "      <td>...</td>\n",
       "      <td>13293.0</td>\n",
       "      <td>13293.0</td>\n",
       "      <td>13293.0</td>\n",
       "      <td>13293.0</td>\n",
       "      <td>13293.0</td>\n",
       "      <td>13293.0</td>\n",
       "      <td>13293.0</td>\n",
       "      <td>13293.0</td>\n",
       "      <td>13293.0</td>\n",
       "      <td>13293.000000</td>\n",
       "    </tr>\n",
       "    <tr>\n",
       "      <th>mean</th>\n",
       "      <td>10435.147672</td>\n",
       "      <td>0.024859</td>\n",
       "      <td>0.025827</td>\n",
       "      <td>0.027525</td>\n",
       "      <td>0.029967</td>\n",
       "      <td>0.032380</td>\n",
       "      <td>1.826100e+04</td>\n",
       "      <td>0.001263</td>\n",
       "      <td>0.018324</td>\n",
       "      <td>0.979133</td>\n",
       "      <td>...</td>\n",
       "      <td>0.0</td>\n",
       "      <td>0.0</td>\n",
       "      <td>0.0</td>\n",
       "      <td>0.0</td>\n",
       "      <td>0.0</td>\n",
       "      <td>0.0</td>\n",
       "      <td>0.0</td>\n",
       "      <td>0.0</td>\n",
       "      <td>0.0</td>\n",
       "      <td>0.049048</td>\n",
       "    </tr>\n",
       "    <tr>\n",
       "      <th>std</th>\n",
       "      <td>6073.803871</td>\n",
       "      <td>0.069852</td>\n",
       "      <td>0.060409</td>\n",
       "      <td>0.055621</td>\n",
       "      <td>0.054930</td>\n",
       "      <td>0.054340</td>\n",
       "      <td>3.904134e+04</td>\n",
       "      <td>0.016285</td>\n",
       "      <td>0.071796</td>\n",
       "      <td>0.082055</td>\n",
       "      <td>...</td>\n",
       "      <td>0.0</td>\n",
       "      <td>0.0</td>\n",
       "      <td>0.0</td>\n",
       "      <td>0.0</td>\n",
       "      <td>0.0</td>\n",
       "      <td>0.0</td>\n",
       "      <td>0.0</td>\n",
       "      <td>0.0</td>\n",
       "      <td>0.0</td>\n",
       "      <td>0.215977</td>\n",
       "    </tr>\n",
       "    <tr>\n",
       "      <th>min</th>\n",
       "      <td>7.000000</td>\n",
       "      <td>0.000000</td>\n",
       "      <td>0.000000</td>\n",
       "      <td>0.000000</td>\n",
       "      <td>0.000000</td>\n",
       "      <td>0.000000</td>\n",
       "      <td>5.000000e+00</td>\n",
       "      <td>0.000000</td>\n",
       "      <td>0.000000</td>\n",
       "      <td>0.027778</td>\n",
       "      <td>...</td>\n",
       "      <td>0.0</td>\n",
       "      <td>0.0</td>\n",
       "      <td>0.0</td>\n",
       "      <td>0.0</td>\n",
       "      <td>0.0</td>\n",
       "      <td>0.0</td>\n",
       "      <td>0.0</td>\n",
       "      <td>0.0</td>\n",
       "      <td>0.0</td>\n",
       "      <td>0.000000</td>\n",
       "    </tr>\n",
       "    <tr>\n",
       "      <th>25%</th>\n",
       "      <td>5149.000000</td>\n",
       "      <td>0.000000</td>\n",
       "      <td>0.000000</td>\n",
       "      <td>0.000000</td>\n",
       "      <td>0.000000</td>\n",
       "      <td>0.000000</td>\n",
       "      <td>1.728000e+03</td>\n",
       "      <td>0.000000</td>\n",
       "      <td>0.000000</td>\n",
       "      <td>1.000000</td>\n",
       "      <td>...</td>\n",
       "      <td>0.0</td>\n",
       "      <td>0.0</td>\n",
       "      <td>0.0</td>\n",
       "      <td>0.0</td>\n",
       "      <td>0.0</td>\n",
       "      <td>0.0</td>\n",
       "      <td>0.0</td>\n",
       "      <td>0.0</td>\n",
       "      <td>0.0</td>\n",
       "      <td>0.000000</td>\n",
       "    </tr>\n",
       "    <tr>\n",
       "      <th>50%</th>\n",
       "      <td>10450.000000</td>\n",
       "      <td>0.000000</td>\n",
       "      <td>0.000000</td>\n",
       "      <td>0.000000</td>\n",
       "      <td>0.009174</td>\n",
       "      <td>0.013333</td>\n",
       "      <td>6.318000e+03</td>\n",
       "      <td>0.000000</td>\n",
       "      <td>0.000000</td>\n",
       "      <td>1.000000</td>\n",
       "      <td>...</td>\n",
       "      <td>0.0</td>\n",
       "      <td>0.0</td>\n",
       "      <td>0.0</td>\n",
       "      <td>0.0</td>\n",
       "      <td>0.0</td>\n",
       "      <td>0.0</td>\n",
       "      <td>0.0</td>\n",
       "      <td>0.0</td>\n",
       "      <td>0.0</td>\n",
       "      <td>0.000000</td>\n",
       "    </tr>\n",
       "    <tr>\n",
       "      <th>75%</th>\n",
       "      <td>15655.000000</td>\n",
       "      <td>0.014925</td>\n",
       "      <td>0.025000</td>\n",
       "      <td>0.031250</td>\n",
       "      <td>0.035088</td>\n",
       "      <td>0.038710</td>\n",
       "      <td>1.850400e+04</td>\n",
       "      <td>0.000000</td>\n",
       "      <td>0.000000</td>\n",
       "      <td>1.000000</td>\n",
       "      <td>...</td>\n",
       "      <td>0.0</td>\n",
       "      <td>0.0</td>\n",
       "      <td>0.0</td>\n",
       "      <td>0.0</td>\n",
       "      <td>0.0</td>\n",
       "      <td>0.0</td>\n",
       "      <td>0.0</td>\n",
       "      <td>0.0</td>\n",
       "      <td>0.0</td>\n",
       "      <td>0.000000</td>\n",
       "    </tr>\n",
       "    <tr>\n",
       "      <th>max</th>\n",
       "      <td>20975.000000</td>\n",
       "      <td>1.000000</td>\n",
       "      <td>1.000000</td>\n",
       "      <td>1.000000</td>\n",
       "      <td>1.000000</td>\n",
       "      <td>1.000000</td>\n",
       "      <td>1.220064e+06</td>\n",
       "      <td>0.466667</td>\n",
       "      <td>0.750000</td>\n",
       "      <td>1.000000</td>\n",
       "      <td>...</td>\n",
       "      <td>0.0</td>\n",
       "      <td>0.0</td>\n",
       "      <td>0.0</td>\n",
       "      <td>0.0</td>\n",
       "      <td>0.0</td>\n",
       "      <td>0.0</td>\n",
       "      <td>0.0</td>\n",
       "      <td>0.0</td>\n",
       "      <td>0.0</td>\n",
       "      <td>1.000000</td>\n",
       "    </tr>\n",
       "  </tbody>\n",
       "</table>\n",
       "<p>8 rows × 147 columns</p>\n",
       "</div>"
      ],
      "text/plain": [
       "              index  factory_inspection_fail_rate_30  \\\n",
       "count  13293.000000                     13293.000000   \n",
       "mean   10435.147672                         0.024859   \n",
       "std     6073.803871                         0.069852   \n",
       "min        7.000000                         0.000000   \n",
       "25%     5149.000000                         0.000000   \n",
       "50%    10450.000000                         0.000000   \n",
       "75%    15655.000000                         0.014925   \n",
       "max    20975.000000                         1.000000   \n",
       "\n",
       "       factory_inspection_fail_rate_60  factory_inspection_fail_rate_90  \\\n",
       "count                     13293.000000                     13293.000000   \n",
       "mean                          0.025827                         0.027525   \n",
       "std                           0.060409                         0.055621   \n",
       "min                           0.000000                         0.000000   \n",
       "25%                           0.000000                         0.000000   \n",
       "50%                           0.000000                         0.000000   \n",
       "75%                           0.025000                         0.031250   \n",
       "max                           1.000000                         1.000000   \n",
       "\n",
       "       factory_inspection_fail_rate_120  factory_inspection_fail_rate_150  \\\n",
       "count                      13293.000000                      13293.000000   \n",
       "mean                           0.029967                          0.032380   \n",
       "std                            0.054930                          0.054340   \n",
       "min                            0.000000                          0.000000   \n",
       "25%                            0.000000                          0.000000   \n",
       "50%                            0.009174                          0.013333   \n",
       "75%                            0.035088                          0.038710   \n",
       "max                            1.000000                          1.000000   \n",
       "\n",
       "       product_available_quantity  product_ppm_1  product_ppm_2  \\\n",
       "count                1.329300e+04   13293.000000   13293.000000   \n",
       "mean                 1.826100e+04       0.001263       0.018324   \n",
       "std                  3.904134e+04       0.016285       0.071796   \n",
       "min                  5.000000e+00       0.000000       0.000000   \n",
       "25%                  1.728000e+03       0.000000       0.000000   \n",
       "50%                  6.318000e+03       0.000000       0.000000   \n",
       "75%                  1.850400e+04       0.000000       0.000000   \n",
       "max                  1.220064e+06       0.466667       0.750000   \n",
       "\n",
       "       product_ppm_3  ...  factory_product_measurement_major_defect_rate_60  \\\n",
       "count   13293.000000  ...                                           13293.0   \n",
       "mean        0.979133  ...                                               0.0   \n",
       "std         0.082055  ...                                               0.0   \n",
       "min         0.027778  ...                                               0.0   \n",
       "25%         1.000000  ...                                               0.0   \n",
       "50%         1.000000  ...                                               0.0   \n",
       "75%         1.000000  ...                                               0.0   \n",
       "max         1.000000  ...                                               0.0   \n",
       "\n",
       "       factory_product_measurement_major_defect_rate_90  \\\n",
       "count                                           13293.0   \n",
       "mean                                                0.0   \n",
       "std                                                 0.0   \n",
       "min                                                 0.0   \n",
       "25%                                                 0.0   \n",
       "50%                                                 0.0   \n",
       "75%                                                 0.0   \n",
       "max                                                 0.0   \n",
       "\n",
       "       factory_product_measurement_major_defect_rate_120  \\\n",
       "count                                            13293.0   \n",
       "mean                                                 0.0   \n",
       "std                                                  0.0   \n",
       "min                                                  0.0   \n",
       "25%                                                  0.0   \n",
       "50%                                                  0.0   \n",
       "75%                                                  0.0   \n",
       "max                                                  0.0   \n",
       "\n",
       "       factory_product_measurement_major_defect_rate_150  \\\n",
       "count                                            13293.0   \n",
       "mean                                                 0.0   \n",
       "std                                                  0.0   \n",
       "min                                                  0.0   \n",
       "25%                                                  0.0   \n",
       "50%                                                  0.0   \n",
       "75%                                                  0.0   \n",
       "max                                                  0.0   \n",
       "\n",
       "       factory_product_measurement_minor_defect_rate_30  \\\n",
       "count                                           13293.0   \n",
       "mean                                                0.0   \n",
       "std                                                 0.0   \n",
       "min                                                 0.0   \n",
       "25%                                                 0.0   \n",
       "50%                                                 0.0   \n",
       "75%                                                 0.0   \n",
       "max                                                 0.0   \n",
       "\n",
       "       factory_product_measurement_minor_defect_rate_60  \\\n",
       "count                                           13293.0   \n",
       "mean                                                0.0   \n",
       "std                                                 0.0   \n",
       "min                                                 0.0   \n",
       "25%                                                 0.0   \n",
       "50%                                                 0.0   \n",
       "75%                                                 0.0   \n",
       "max                                                 0.0   \n",
       "\n",
       "       factory_product_measurement_minor_defect_rate_90  \\\n",
       "count                                           13293.0   \n",
       "mean                                                0.0   \n",
       "std                                                 0.0   \n",
       "min                                                 0.0   \n",
       "25%                                                 0.0   \n",
       "50%                                                 0.0   \n",
       "75%                                                 0.0   \n",
       "max                                                 0.0   \n",
       "\n",
       "       factory_product_measurement_minor_defect_rate_120  \\\n",
       "count                                            13293.0   \n",
       "mean                                                 0.0   \n",
       "std                                                  0.0   \n",
       "min                                                  0.0   \n",
       "25%                                                  0.0   \n",
       "50%                                                  0.0   \n",
       "75%                                                  0.0   \n",
       "max                                                  0.0   \n",
       "\n",
       "       factory_product_measurement_minor_defect_rate_150         label  \n",
       "count                                            13293.0  13293.000000  \n",
       "mean                                                 0.0      0.049048  \n",
       "std                                                  0.0      0.215977  \n",
       "min                                                  0.0      0.000000  \n",
       "25%                                                  0.0      0.000000  \n",
       "50%                                                  0.0      0.000000  \n",
       "75%                                                  0.0      0.000000  \n",
       "max                                                  0.0      1.000000  \n",
       "\n",
       "[8 rows x 147 columns]"
      ]
     },
     "execution_count": 23,
     "metadata": {},
     "output_type": "execute_result"
    }
   ],
   "source": [
    "train_df.describe()"
   ]
  },
  {
   "cell_type": "code",
   "execution_count": 19,
   "id": "348e8d75-6d74-4e41-8178-bd8f56c53902",
   "metadata": {},
   "outputs": [
    {
     "data": {
      "text/html": [
       "<div>\n",
       "<style scoped>\n",
       "    .dataframe tbody tr th:only-of-type {\n",
       "        vertical-align: middle;\n",
       "    }\n",
       "\n",
       "    .dataframe tbody tr th {\n",
       "        vertical-align: top;\n",
       "    }\n",
       "\n",
       "    .dataframe thead th {\n",
       "        text-align: right;\n",
       "    }\n",
       "</style>\n",
       "<table border=\"1\" class=\"dataframe\">\n",
       "  <thead>\n",
       "    <tr style=\"text-align: right;\">\n",
       "      <th></th>\n",
       "      <th>index</th>\n",
       "      <th>factory_inspection_fail_rate_30</th>\n",
       "      <th>factory_inspection_fail_rate_60</th>\n",
       "      <th>factory_inspection_fail_rate_90</th>\n",
       "      <th>factory_inspection_fail_rate_120</th>\n",
       "      <th>factory_inspection_fail_rate_150</th>\n",
       "      <th>product_available_quantity</th>\n",
       "      <th>product_ppm_1</th>\n",
       "      <th>product_ppm_2</th>\n",
       "      <th>product_ppm_3</th>\n",
       "      <th>...</th>\n",
       "      <th>factory_product_measurement_major_defect_rate_30</th>\n",
       "      <th>factory_product_measurement_major_defect_rate_60</th>\n",
       "      <th>factory_product_measurement_major_defect_rate_90</th>\n",
       "      <th>factory_product_measurement_major_defect_rate_120</th>\n",
       "      <th>factory_product_measurement_major_defect_rate_150</th>\n",
       "      <th>factory_product_measurement_minor_defect_rate_30</th>\n",
       "      <th>factory_product_measurement_minor_defect_rate_60</th>\n",
       "      <th>factory_product_measurement_minor_defect_rate_90</th>\n",
       "      <th>factory_product_measurement_minor_defect_rate_120</th>\n",
       "      <th>factory_product_measurement_minor_defect_rate_150</th>\n",
       "    </tr>\n",
       "  </thead>\n",
       "  <tbody>\n",
       "    <tr>\n",
       "      <th>count</th>\n",
       "      <td>4422.000000</td>\n",
       "      <td>4422.000000</td>\n",
       "      <td>4422.000000</td>\n",
       "      <td>4422.000000</td>\n",
       "      <td>4422.000000</td>\n",
       "      <td>4422.000000</td>\n",
       "      <td>4422.000000</td>\n",
       "      <td>4422.000000</td>\n",
       "      <td>4422.000000</td>\n",
       "      <td>4422.000000</td>\n",
       "      <td>...</td>\n",
       "      <td>4422.0</td>\n",
       "      <td>4422.0</td>\n",
       "      <td>4422.0</td>\n",
       "      <td>4422.0</td>\n",
       "      <td>4422.0</td>\n",
       "      <td>4422.0</td>\n",
       "      <td>4422.0</td>\n",
       "      <td>4422.0</td>\n",
       "      <td>4422.0</td>\n",
       "      <td>4422.0</td>\n",
       "    </tr>\n",
       "    <tr>\n",
       "      <th>mean</th>\n",
       "      <td>10627.997060</td>\n",
       "      <td>0.018218</td>\n",
       "      <td>0.019567</td>\n",
       "      <td>0.021235</td>\n",
       "      <td>0.022930</td>\n",
       "      <td>0.023260</td>\n",
       "      <td>19096.452058</td>\n",
       "      <td>0.001537</td>\n",
       "      <td>0.016464</td>\n",
       "      <td>0.979286</td>\n",
       "      <td>...</td>\n",
       "      <td>0.0</td>\n",
       "      <td>0.0</td>\n",
       "      <td>0.0</td>\n",
       "      <td>0.0</td>\n",
       "      <td>0.0</td>\n",
       "      <td>0.0</td>\n",
       "      <td>0.0</td>\n",
       "      <td>0.0</td>\n",
       "      <td>0.0</td>\n",
       "      <td>0.0</td>\n",
       "    </tr>\n",
       "    <tr>\n",
       "      <th>std</th>\n",
       "      <td>6028.510559</td>\n",
       "      <td>0.049791</td>\n",
       "      <td>0.042316</td>\n",
       "      <td>0.042396</td>\n",
       "      <td>0.042756</td>\n",
       "      <td>0.042990</td>\n",
       "      <td>33824.822615</td>\n",
       "      <td>0.017035</td>\n",
       "      <td>0.060987</td>\n",
       "      <td>0.079392</td>\n",
       "      <td>...</td>\n",
       "      <td>0.0</td>\n",
       "      <td>0.0</td>\n",
       "      <td>0.0</td>\n",
       "      <td>0.0</td>\n",
       "      <td>0.0</td>\n",
       "      <td>0.0</td>\n",
       "      <td>0.0</td>\n",
       "      <td>0.0</td>\n",
       "      <td>0.0</td>\n",
       "      <td>0.0</td>\n",
       "    </tr>\n",
       "    <tr>\n",
       "      <th>min</th>\n",
       "      <td>26.000000</td>\n",
       "      <td>0.000000</td>\n",
       "      <td>0.000000</td>\n",
       "      <td>0.000000</td>\n",
       "      <td>0.000000</td>\n",
       "      <td>0.000000</td>\n",
       "      <td>9.000000</td>\n",
       "      <td>0.000000</td>\n",
       "      <td>0.000000</td>\n",
       "      <td>0.083333</td>\n",
       "      <td>...</td>\n",
       "      <td>0.0</td>\n",
       "      <td>0.0</td>\n",
       "      <td>0.0</td>\n",
       "      <td>0.0</td>\n",
       "      <td>0.0</td>\n",
       "      <td>0.0</td>\n",
       "      <td>0.0</td>\n",
       "      <td>0.0</td>\n",
       "      <td>0.0</td>\n",
       "      <td>0.0</td>\n",
       "    </tr>\n",
       "    <tr>\n",
       "      <th>25%</th>\n",
       "      <td>5473.000000</td>\n",
       "      <td>0.000000</td>\n",
       "      <td>0.000000</td>\n",
       "      <td>0.000000</td>\n",
       "      <td>0.000000</td>\n",
       "      <td>0.000000</td>\n",
       "      <td>2124.000000</td>\n",
       "      <td>0.000000</td>\n",
       "      <td>0.000000</td>\n",
       "      <td>1.000000</td>\n",
       "      <td>...</td>\n",
       "      <td>0.0</td>\n",
       "      <td>0.0</td>\n",
       "      <td>0.0</td>\n",
       "      <td>0.0</td>\n",
       "      <td>0.0</td>\n",
       "      <td>0.0</td>\n",
       "      <td>0.0</td>\n",
       "      <td>0.0</td>\n",
       "      <td>0.0</td>\n",
       "      <td>0.0</td>\n",
       "    </tr>\n",
       "    <tr>\n",
       "      <th>50%</th>\n",
       "      <td>10651.000000</td>\n",
       "      <td>0.000000</td>\n",
       "      <td>0.000000</td>\n",
       "      <td>0.002941</td>\n",
       "      <td>0.006849</td>\n",
       "      <td>0.007273</td>\n",
       "      <td>8112.000000</td>\n",
       "      <td>0.000000</td>\n",
       "      <td>0.000000</td>\n",
       "      <td>1.000000</td>\n",
       "      <td>...</td>\n",
       "      <td>0.0</td>\n",
       "      <td>0.0</td>\n",
       "      <td>0.0</td>\n",
       "      <td>0.0</td>\n",
       "      <td>0.0</td>\n",
       "      <td>0.0</td>\n",
       "      <td>0.0</td>\n",
       "      <td>0.0</td>\n",
       "      <td>0.0</td>\n",
       "      <td>0.0</td>\n",
       "    </tr>\n",
       "    <tr>\n",
       "      <th>75%</th>\n",
       "      <td>15976.500000</td>\n",
       "      <td>0.011364</td>\n",
       "      <td>0.026316</td>\n",
       "      <td>0.027778</td>\n",
       "      <td>0.028846</td>\n",
       "      <td>0.027778</td>\n",
       "      <td>20985.000000</td>\n",
       "      <td>0.000000</td>\n",
       "      <td>0.000000</td>\n",
       "      <td>1.000000</td>\n",
       "      <td>...</td>\n",
       "      <td>0.0</td>\n",
       "      <td>0.0</td>\n",
       "      <td>0.0</td>\n",
       "      <td>0.0</td>\n",
       "      <td>0.0</td>\n",
       "      <td>0.0</td>\n",
       "      <td>0.0</td>\n",
       "      <td>0.0</td>\n",
       "      <td>0.0</td>\n",
       "      <td>0.0</td>\n",
       "    </tr>\n",
       "    <tr>\n",
       "      <th>max</th>\n",
       "      <td>20973.000000</td>\n",
       "      <td>1.000000</td>\n",
       "      <td>1.000000</td>\n",
       "      <td>1.000000</td>\n",
       "      <td>1.000000</td>\n",
       "      <td>1.000000</td>\n",
       "      <td>586848.000000</td>\n",
       "      <td>0.333333</td>\n",
       "      <td>0.750000</td>\n",
       "      <td>1.000000</td>\n",
       "      <td>...</td>\n",
       "      <td>0.0</td>\n",
       "      <td>0.0</td>\n",
       "      <td>0.0</td>\n",
       "      <td>0.0</td>\n",
       "      <td>0.0</td>\n",
       "      <td>0.0</td>\n",
       "      <td>0.0</td>\n",
       "      <td>0.0</td>\n",
       "      <td>0.0</td>\n",
       "      <td>0.0</td>\n",
       "    </tr>\n",
       "  </tbody>\n",
       "</table>\n",
       "<p>8 rows × 146 columns</p>\n",
       "</div>"
      ],
      "text/plain": [
       "              index  factory_inspection_fail_rate_30  \\\n",
       "count   4422.000000                      4422.000000   \n",
       "mean   10627.997060                         0.018218   \n",
       "std     6028.510559                         0.049791   \n",
       "min       26.000000                         0.000000   \n",
       "25%     5473.000000                         0.000000   \n",
       "50%    10651.000000                         0.000000   \n",
       "75%    15976.500000                         0.011364   \n",
       "max    20973.000000                         1.000000   \n",
       "\n",
       "       factory_inspection_fail_rate_60  factory_inspection_fail_rate_90  \\\n",
       "count                      4422.000000                      4422.000000   \n",
       "mean                          0.019567                         0.021235   \n",
       "std                           0.042316                         0.042396   \n",
       "min                           0.000000                         0.000000   \n",
       "25%                           0.000000                         0.000000   \n",
       "50%                           0.000000                         0.002941   \n",
       "75%                           0.026316                         0.027778   \n",
       "max                           1.000000                         1.000000   \n",
       "\n",
       "       factory_inspection_fail_rate_120  factory_inspection_fail_rate_150  \\\n",
       "count                       4422.000000                       4422.000000   \n",
       "mean                           0.022930                          0.023260   \n",
       "std                            0.042756                          0.042990   \n",
       "min                            0.000000                          0.000000   \n",
       "25%                            0.000000                          0.000000   \n",
       "50%                            0.006849                          0.007273   \n",
       "75%                            0.028846                          0.027778   \n",
       "max                            1.000000                          1.000000   \n",
       "\n",
       "       product_available_quantity  product_ppm_1  product_ppm_2  \\\n",
       "count                 4422.000000    4422.000000    4422.000000   \n",
       "mean                 19096.452058       0.001537       0.016464   \n",
       "std                  33824.822615       0.017035       0.060987   \n",
       "min                      9.000000       0.000000       0.000000   \n",
       "25%                   2124.000000       0.000000       0.000000   \n",
       "50%                   8112.000000       0.000000       0.000000   \n",
       "75%                  20985.000000       0.000000       0.000000   \n",
       "max                 586848.000000       0.333333       0.750000   \n",
       "\n",
       "       product_ppm_3  ...  factory_product_measurement_major_defect_rate_30  \\\n",
       "count    4422.000000  ...                                            4422.0   \n",
       "mean        0.979286  ...                                               0.0   \n",
       "std         0.079392  ...                                               0.0   \n",
       "min         0.083333  ...                                               0.0   \n",
       "25%         1.000000  ...                                               0.0   \n",
       "50%         1.000000  ...                                               0.0   \n",
       "75%         1.000000  ...                                               0.0   \n",
       "max         1.000000  ...                                               0.0   \n",
       "\n",
       "       factory_product_measurement_major_defect_rate_60  \\\n",
       "count                                            4422.0   \n",
       "mean                                                0.0   \n",
       "std                                                 0.0   \n",
       "min                                                 0.0   \n",
       "25%                                                 0.0   \n",
       "50%                                                 0.0   \n",
       "75%                                                 0.0   \n",
       "max                                                 0.0   \n",
       "\n",
       "       factory_product_measurement_major_defect_rate_90  \\\n",
       "count                                            4422.0   \n",
       "mean                                                0.0   \n",
       "std                                                 0.0   \n",
       "min                                                 0.0   \n",
       "25%                                                 0.0   \n",
       "50%                                                 0.0   \n",
       "75%                                                 0.0   \n",
       "max                                                 0.0   \n",
       "\n",
       "       factory_product_measurement_major_defect_rate_120  \\\n",
       "count                                             4422.0   \n",
       "mean                                                 0.0   \n",
       "std                                                  0.0   \n",
       "min                                                  0.0   \n",
       "25%                                                  0.0   \n",
       "50%                                                  0.0   \n",
       "75%                                                  0.0   \n",
       "max                                                  0.0   \n",
       "\n",
       "       factory_product_measurement_major_defect_rate_150  \\\n",
       "count                                             4422.0   \n",
       "mean                                                 0.0   \n",
       "std                                                  0.0   \n",
       "min                                                  0.0   \n",
       "25%                                                  0.0   \n",
       "50%                                                  0.0   \n",
       "75%                                                  0.0   \n",
       "max                                                  0.0   \n",
       "\n",
       "       factory_product_measurement_minor_defect_rate_30  \\\n",
       "count                                            4422.0   \n",
       "mean                                                0.0   \n",
       "std                                                 0.0   \n",
       "min                                                 0.0   \n",
       "25%                                                 0.0   \n",
       "50%                                                 0.0   \n",
       "75%                                                 0.0   \n",
       "max                                                 0.0   \n",
       "\n",
       "       factory_product_measurement_minor_defect_rate_60  \\\n",
       "count                                            4422.0   \n",
       "mean                                                0.0   \n",
       "std                                                 0.0   \n",
       "min                                                 0.0   \n",
       "25%                                                 0.0   \n",
       "50%                                                 0.0   \n",
       "75%                                                 0.0   \n",
       "max                                                 0.0   \n",
       "\n",
       "       factory_product_measurement_minor_defect_rate_90  \\\n",
       "count                                            4422.0   \n",
       "mean                                                0.0   \n",
       "std                                                 0.0   \n",
       "min                                                 0.0   \n",
       "25%                                                 0.0   \n",
       "50%                                                 0.0   \n",
       "75%                                                 0.0   \n",
       "max                                                 0.0   \n",
       "\n",
       "       factory_product_measurement_minor_defect_rate_120  \\\n",
       "count                                             4422.0   \n",
       "mean                                                 0.0   \n",
       "std                                                  0.0   \n",
       "min                                                  0.0   \n",
       "25%                                                  0.0   \n",
       "50%                                                  0.0   \n",
       "75%                                                  0.0   \n",
       "max                                                  0.0   \n",
       "\n",
       "       factory_product_measurement_minor_defect_rate_150  \n",
       "count                                             4422.0  \n",
       "mean                                                 0.0  \n",
       "std                                                  0.0  \n",
       "min                                                  0.0  \n",
       "25%                                                  0.0  \n",
       "50%                                                  0.0  \n",
       "75%                                                  0.0  \n",
       "max                                                  0.0  \n",
       "\n",
       "[8 rows x 146 columns]"
      ]
     },
     "execution_count": 19,
     "metadata": {},
     "output_type": "execute_result"
    }
   ],
   "source": [
    "test_df.describe()"
   ]
  },
  {
   "cell_type": "markdown",
   "id": "86c62c6c-003d-4825-aad0-a7ce9d11dd61",
   "metadata": {},
   "source": [
    "### After look at inside the data, I decide to remove some columns that has min and max value is 0 , which may not contribute to the model prediction"
   ]
  },
  {
   "cell_type": "code",
   "execution_count": 43,
   "id": "367945ac-e6bf-4f8e-a2cd-62fb3b7c5309",
   "metadata": {},
   "outputs": [
    {
     "data": {
      "text/plain": [
       "0        009f006e3799f9fe96a0c95e944df3e669f02d4e\n",
       "1        a9f2640fbd054cb52bf9411b7a42f668a9613197\n",
       "2        c0bffcf0318c483b2dbb1c56bed6efa58f9717bd\n",
       "3        c96f3f1c47dca83af551893a28c3409cb4afd31d\n",
       "4        63ffdba896c8bb150eca939d1eb7e3bd4e732ed4\n",
       "                           ...                   \n",
       "13288    009f006e3799f9fe96a0c95e944df3e669f02d4e\n",
       "13289    9213adcfaa233c1bd362eeaaef15269b1f15afe1\n",
       "13290    5a06094857c4e9b5bd124cf37a6e7d336bb8edd4\n",
       "13291    a9f2640fbd054cb52bf9411b7a42f668a9613197\n",
       "13292    a9f2640fbd054cb52bf9411b7a42f668a9613197\n",
       "Name: hashed_factory_id, Length: 13293, dtype: object"
      ]
     },
     "execution_count": 43,
     "metadata": {},
     "output_type": "execute_result"
    }
   ],
   "source": [
    "train_df[column_name]"
   ]
  },
  {
   "cell_type": "code",
   "execution_count": 53,
   "id": "d0a66150-80b1-4b6f-847e-3ce26e54363f",
   "metadata": {},
   "outputs": [
    {
     "name": "stdout",
     "output_type": "stream",
     "text": [
      "hashed_factory_id\n",
      "country\n",
      "hashed_type_of_inspection\n",
      "style_number\n",
      "item_number\n",
      "brand_number\n",
      "hashed_product_line\n",
      "hashed_product_category\n",
      "hashed_product_id\n"
     ]
    }
   ],
   "source": [
    "drop_columns = []\n",
    "for column_name in column_names:\n",
    "    try:\n",
    "        max_value = train_df[column_name].max()\n",
    "        min_value = train_df[column_name].min()\n",
    "        \n",
    "        if (max_value - min_value <= 0.00001)and (max_value <= 0.00001):\n",
    "            drop_columns.append(column_name)\n",
    "    except:\n",
    "        print(column_name)"
   ]
  },
  {
   "cell_type": "code",
   "execution_count": 63,
   "id": "d78a1996-2464-4e50-bc1a-c9d3b5953526",
   "metadata": {},
   "outputs": [
    {
     "data": {
      "text/plain": [
       "0    009f006e3799f9fe96a0c95e944df3e669f02d4e\n",
       "1    a9f2640fbd054cb52bf9411b7a42f668a9613197\n",
       "2    c0bffcf0318c483b2dbb1c56bed6efa58f9717bd\n",
       "3    c96f3f1c47dca83af551893a28c3409cb4afd31d\n",
       "4    63ffdba896c8bb150eca939d1eb7e3bd4e732ed4\n",
       "Name: hashed_factory_id, dtype: object"
      ]
     },
     "execution_count": 63,
     "metadata": {},
     "output_type": "execute_result"
    }
   ],
   "source": [
    "train_df['hashed_factory_id'].head()"
   ]
  },
  {
   "cell_type": "code",
   "execution_count": null,
   "id": "e9f83732-77dc-4b76-acfa-02e2834e4ace",
   "metadata": {},
   "outputs": [],
   "source": []
  },
  {
   "cell_type": "code",
   "execution_count": null,
   "id": "e3d9c1d4-05cc-40b3-9116-bfc68851e8d8",
   "metadata": {},
   "outputs": [],
   "source": []
  },
  {
   "cell_type": "code",
   "execution_count": 18,
   "id": "cf618659-e358-43cd-b8ff-5e6d99a3dcf7",
   "metadata": {},
   "outputs": [
    {
     "name": "stdout",
     "output_type": "stream",
     "text": [
      "<class 'pandas.core.frame.DataFrame'>\n",
      "RangeIndex: 13293 entries, 0 to 13292\n",
      "Columns: 156 entries, index to label\n",
      "dtypes: float64(145), int64(2), object(9)\n",
      "memory usage: 15.8+ MB\n"
     ]
    }
   ],
   "source": [
    "train_df.info()"
   ]
  },
  {
   "cell_type": "code",
   "execution_count": null,
   "id": "01e7d7eb-dca7-4269-8647-4bac3ed76a45",
   "metadata": {},
   "outputs": [],
   "source": []
  },
  {
   "cell_type": "code",
   "execution_count": null,
   "id": "da795461-460c-4dfe-80c5-ee0524197b5d",
   "metadata": {},
   "outputs": [],
   "source": []
  },
  {
   "cell_type": "code",
   "execution_count": null,
   "id": "89dca5df-6380-4f2f-907a-4725fbea43b5",
   "metadata": {},
   "outputs": [],
   "source": []
  },
  {
   "cell_type": "code",
   "execution_count": null,
   "id": "da92745a-6730-4856-95d5-653f66faabfe",
   "metadata": {},
   "outputs": [],
   "source": []
  },
  {
   "cell_type": "code",
   "execution_count": null,
   "id": "62fa14d5",
   "metadata": {
    "papermill": {
     "duration": 0.08194,
     "end_time": "2022-05-29T14:45:59.579865",
     "exception": false,
     "start_time": "2022-05-29T14:45:59.497925",
     "status": "completed"
    },
    "tags": []
   },
   "outputs": [],
   "source": [
    "df.head(3)  # the head function returns the first (3) lines"
   ]
  },
  {
   "cell_type": "code",
   "execution_count": null,
   "id": "ec10faf0",
   "metadata": {
    "papermill": {
     "duration": 0.083322,
     "end_time": "2022-05-29T14:45:59.714721",
     "exception": false,
     "start_time": "2022-05-29T14:45:59.631399",
     "status": "completed"
    },
    "tags": []
   },
   "outputs": [],
   "source": [
    "df.tail(3)  # the tail function returns the last (3) lines"
   ]
  },
  {
   "cell_type": "code",
   "execution_count": null,
   "id": "b1611861",
   "metadata": {
    "papermill": {
     "duration": 0.064603,
     "end_time": "2022-05-29T14:45:59.832963",
     "exception": false,
     "start_time": "2022-05-29T14:45:59.768360",
     "status": "completed"
    },
    "tags": []
   },
   "outputs": [],
   "source": [
    "df.shape     # the shape function returns the size - this is a pair (number of rows, number of columns)"
   ]
  },
  {
   "cell_type": "code",
   "execution_count": null,
   "id": "f8fac177",
   "metadata": {
    "papermill": {
     "duration": 0.062715,
     "end_time": "2022-05-29T14:45:59.942392",
     "exception": false,
     "start_time": "2022-05-29T14:45:59.879677",
     "status": "completed"
    },
    "tags": []
   },
   "outputs": [],
   "source": [
    "df.dtypes    # the type function returns the types of all data from the Data Frame"
   ]
  },
  {
   "cell_type": "code",
   "execution_count": null,
   "id": "4853d10c",
   "metadata": {
    "papermill": {
     "duration": 0.081549,
     "end_time": "2022-05-29T14:46:00.070286",
     "exception": false,
     "start_time": "2022-05-29T14:45:59.988737",
     "status": "completed"
    },
    "tags": []
   },
   "outputs": [],
   "source": [
    "df.info()            # the info function provides general information about the DataFrame"
   ]
  },
  {
   "cell_type": "markdown",
   "id": "ece204f1",
   "metadata": {
    "papermill": {
     "duration": 0.048578,
     "end_time": "2022-05-29T14:46:00.165315",
     "exception": false,
     "start_time": "2022-05-29T14:46:00.116737",
     "status": "completed"
    },
    "tags": []
   },
   "source": [
    "Let's look at the features in the dataset. We are interested in how complete they are."
   ]
  },
  {
   "cell_type": "code",
   "execution_count": null,
   "id": "ca9f243a",
   "metadata": {
    "papermill": {
     "duration": 0.063884,
     "end_time": "2022-05-29T14:46:00.276299",
     "exception": false,
     "start_time": "2022-05-29T14:46:00.212415",
     "status": "completed"
    },
    "tags": []
   },
   "outputs": [],
   "source": [
    "df.isnull().sum() # checking for null or missing values"
   ]
  },
  {
   "cell_type": "code",
   "execution_count": null,
   "id": "9836ee6c",
   "metadata": {
    "papermill": {
     "duration": 0.102851,
     "end_time": "2022-05-29T14:46:00.438701",
     "exception": false,
     "start_time": "2022-05-29T14:46:00.335850",
     "status": "completed"
    },
    "tags": []
   },
   "outputs": [],
   "source": [
    "df.describe(include=\"all\")"
   ]
  },
  {
   "cell_type": "markdown",
   "id": "7212cf0b",
   "metadata": {
    "papermill": {
     "duration": 0.047158,
     "end_time": "2022-05-29T14:46:00.534667",
     "exception": false,
     "start_time": "2022-05-29T14:46:00.487509",
     "status": "completed"
    },
    "tags": []
   },
   "source": [
    "### 2.2. Data Visualization\n",
    "Visualization is a very useful stage of our work. In the graphs, you can see what is hidden behind the numbers."
   ]
  },
  {
   "cell_type": "markdown",
   "id": "af8e2ed3",
   "metadata": {
    "papermill": {
     "duration": 0.046196,
     "end_time": "2022-05-29T14:46:00.627849",
     "exception": false,
     "start_time": "2022-05-29T14:46:00.581653",
     "status": "completed"
    },
    "tags": []
   },
   "source": [
    "Let's ask ourselves, are there many survivors?"
   ]
  },
  {
   "cell_type": "code",
   "execution_count": null,
   "id": "078d6ccf",
   "metadata": {
    "papermill": {
     "duration": 0.371525,
     "end_time": "2022-05-29T14:46:01.048389",
     "exception": false,
     "start_time": "2022-05-29T14:46:00.676864",
     "status": "completed"
    },
    "tags": []
   },
   "outputs": [],
   "source": [
    "f,ax=plt.subplots(1,2,figsize=(12,4))\n",
    "df['Survived'].value_counts().plot.pie(explode=[0,0.1],autopct='%1.1f%%',ax=ax[0],shadow=False)\n",
    "ax[0].set_title('Survivors (1) and the dead (0)')\n",
    "ax[0].set_ylabel('')\n",
    "sns.countplot('Survived', data=df,ax=ax[1])\n",
    "ax[1].set_ylabel('Quantity')\n",
    "ax[1].set_title('Survivors (1) and the dead (0)')\n",
    "plt.show()"
   ]
  },
  {
   "cell_type": "markdown",
   "id": "3fc96904",
   "metadata": {
    "papermill": {
     "duration": 0.049463,
     "end_time": "2022-05-29T14:46:01.146851",
     "exception": false,
     "start_time": "2022-05-29T14:46:01.097388",
     "status": "completed"
    },
    "tags": []
   },
   "source": [
    "#### Let's ask ourselves, what types of data are we dealing with here?\n",
    "Categorical Features in our case: Sex, Embarked. \n",
    "\n",
    "Ordinal Features in our case: Pclass. \n",
    "\n",
    "Continuous Features in our case: Age."
   ]
  },
  {
   "cell_type": "code",
   "execution_count": null,
   "id": "ec97968f",
   "metadata": {
    "papermill": {
     "duration": 0.06446,
     "end_time": "2022-05-29T14:46:01.260108",
     "exception": false,
     "start_time": "2022-05-29T14:46:01.195648",
     "status": "completed"
    },
    "tags": []
   },
   "outputs": [],
   "source": [
    "df.groupby(['Sex','Survived'])['Survived'].count()"
   ]
  },
  {
   "cell_type": "code",
   "execution_count": null,
   "id": "2bd77e18",
   "metadata": {
    "papermill": {
     "duration": 0.38833,
     "end_time": "2022-05-29T14:46:01.696441",
     "exception": false,
     "start_time": "2022-05-29T14:46:01.308111",
     "status": "completed"
    },
    "tags": []
   },
   "outputs": [],
   "source": [
    "f,ax=plt.subplots(1,2,figsize=(12,4))\n",
    "df[['Sex','Survived']].groupby(['Sex']).mean().plot.bar(ax=ax[0])\n",
    "ax[0].set_title('Survivors by sex')\n",
    "sns.countplot('Sex',hue='Survived',data=df,ax=ax[1])\n",
    "ax[1].set_ylabel('Quantity')\n",
    "ax[1].set_title('Survived (1) and deceased (0): men and women')\n",
    "plt.show()"
   ]
  },
  {
   "cell_type": "markdown",
   "id": "a3f87761",
   "metadata": {
    "papermill": {
     "duration": 0.046538,
     "end_time": "2022-05-29T14:46:01.790350",
     "exception": false,
     "start_time": "2022-05-29T14:46:01.743812",
     "status": "completed"
    },
    "tags": []
   },
   "source": [
    "And what is the situation among passengers from different classes of cabins (Pclass)?"
   ]
  },
  {
   "cell_type": "code",
   "execution_count": null,
   "id": "22431c88",
   "metadata": {
    "papermill": {
     "duration": 0.376712,
     "end_time": "2022-05-29T14:46:02.214637",
     "exception": false,
     "start_time": "2022-05-29T14:46:01.837925",
     "status": "completed"
    },
    "tags": []
   },
   "outputs": [],
   "source": [
    "f,ax=plt.subplots(1,2,figsize=(12,4))\n",
    "df['Pclass'].value_counts().plot.bar(color=['purple','royalblue','orchid'],ax=ax[0])\n",
    "ax[0].set_title('Total number of passengers by Pclass')\n",
    "ax[0].set_ylabel('Quantity')\n",
    "sns.countplot('Pclass',hue='Survived',data=df, ax=ax[1])\n",
    "ax[1].set_ylabel('Quantity')\n",
    "ax[1].set_title('Survived (1) and deceased (0): by Pclass')\n",
    "plt.show()"
   ]
  },
  {
   "cell_type": "markdown",
   "id": "4eb3d4b4",
   "metadata": {
    "papermill": {
     "duration": 0.051432,
     "end_time": "2022-05-29T14:46:02.314968",
     "exception": false,
     "start_time": "2022-05-29T14:46:02.263536",
     "status": "completed"
    },
    "tags": []
   },
   "source": [
    "#### So, after looking at our data in EDA and Data Visualization, we can make some observations:\n",
    "There are a total of 891 passengers in our training set.\n",
    "\n",
    "The age feature is absent in about 20% of its values. This characteristic is very important for survival. We will try to fill in these gaps.\n",
    "\n",
    "77% of its values are missing in the Cabin feature. This is a large number. It is difficult to fill in the missing values here. We will probably remove these values from our dataset.\n",
    "\n",
    "The Embarked feature is missing 0.22% of its values that could be corrected."
   ]
  },
  {
   "cell_type": "markdown",
   "id": "4e2cde13",
   "metadata": {
    "papermill": {
     "duration": 0.047966,
     "end_time": "2022-05-29T14:46:02.411005",
     "exception": false,
     "start_time": "2022-05-29T14:46:02.363039",
     "status": "completed"
    },
    "tags": []
   },
   "source": [
    "### 3.Data Cleaning"
   ]
  },
  {
   "cell_type": "markdown",
   "id": "3b018f63",
   "metadata": {
    "papermill": {
     "duration": 0.050202,
     "end_time": "2022-05-29T14:46:02.511309",
     "exception": false,
     "start_time": "2022-05-29T14:46:02.461107",
     "status": "completed"
    },
    "tags": []
   },
   "source": [
    "#### PassengerId feature\n",
    "I think this feature is uninformative. We will delete it. Therefore, we will not do any cleaning of this feature."
   ]
  },
  {
   "cell_type": "markdown",
   "id": "1c80b0c7",
   "metadata": {
    "papermill": {
     "duration": 0.048584,
     "end_time": "2022-05-29T14:46:02.609098",
     "exception": false,
     "start_time": "2022-05-29T14:46:02.560514",
     "status": "completed"
    },
    "tags": []
   },
   "source": [
    "#### Survived feature\n",
    "This feature is informative. We'll keep it. This feature is already in a numerical form convenient for us. Therefore, we will not do any cleaning. There are no missing values in this feature."
   ]
  },
  {
   "cell_type": "markdown",
   "id": "da7d5ea9",
   "metadata": {
    "papermill": {
     "duration": 0.047176,
     "end_time": "2022-05-29T14:46:02.703846",
     "exception": false,
     "start_time": "2022-05-29T14:46:02.656670",
     "status": "completed"
    },
    "tags": []
   },
   "source": [
    "#### Pclass feature\n",
    "Here the situation is similar to Survived feature."
   ]
  },
  {
   "cell_type": "markdown",
   "id": "380f8abb",
   "metadata": {
    "papermill": {
     "duration": 0.046726,
     "end_time": "2022-05-29T14:46:02.798467",
     "exception": false,
     "start_time": "2022-05-29T14:46:02.751741",
     "status": "completed"
    },
    "tags": []
   },
   "source": [
    "#### Name feature\n",
    "This feature is a non-numeric feature. In this form, we will not be able to use this feature. There is no missing information in this feature. For now, we will leave this feature as it is."
   ]
  },
  {
   "cell_type": "markdown",
   "id": "3ba3ce9c",
   "metadata": {
    "papermill": {
     "duration": 0.047913,
     "end_time": "2022-05-29T14:46:02.894936",
     "exception": false,
     "start_time": "2022-05-29T14:46:02.847023",
     "status": "completed"
    },
    "tags": []
   },
   "source": [
    "#### Sex feature\n",
    "Here the situation is similar to Name feature."
   ]
  },
  {
   "cell_type": "markdown",
   "id": "9cb7a260",
   "metadata": {
    "papermill": {
     "duration": 0.047076,
     "end_time": "2022-05-29T14:46:02.989688",
     "exception": false,
     "start_time": "2022-05-29T14:46:02.942612",
     "status": "completed"
    },
    "tags": []
   },
   "source": [
    "#### Age feature\n",
    "The age feature has 177 zero values. We can assign such NaN values, for example, the average age of a data set. But this is not the best solution. There were many people of different ages on the Titanic. But we can look closely at the peculiarity of the name. Names have a greeting like Mr. or Mrs. We will use this information."
   ]
  },
  {
   "cell_type": "code",
   "execution_count": null,
   "id": "41c6bf62",
   "metadata": {
    "papermill": {
     "duration": 0.112749,
     "end_time": "2022-05-29T14:46:03.150275",
     "exception": false,
     "start_time": "2022-05-29T14:46:03.037526",
     "status": "completed"
    },
    "tags": []
   },
   "outputs": [],
   "source": [
    "df['Initial']=0\n",
    "for i in df:\n",
    "    df['Initial']=df.Name.str.extract('([A-Za-z]+)\\.') # lets extract the Salutations"
   ]
  },
  {
   "cell_type": "markdown",
   "id": "379a76ba",
   "metadata": {
    "papermill": {
     "duration": 0.04682,
     "end_time": "2022-05-29T14:46:03.244083",
     "exception": false,
     "start_time": "2022-05-29T14:46:03.197263",
     "status": "completed"
    },
    "tags": []
   },
   "source": [
    "We use here the Regex. It looks for strings which lie between A-Z or a-z and followed by a .(dot). We extract the Initials from the Name."
   ]
  },
  {
   "cell_type": "code",
   "execution_count": null,
   "id": "1c179354",
   "metadata": {
    "papermill": {
     "duration": 0.195845,
     "end_time": "2022-05-29T14:46:03.487548",
     "exception": false,
     "start_time": "2022-05-29T14:46:03.291703",
     "status": "completed"
    },
    "tags": []
   },
   "outputs": [],
   "source": [
    "pd.crosstab(df.Initial,df.Sex).T.style.background_gradient(cmap='BuPu') # Checking the Initials with the Sex"
   ]
  },
  {
   "cell_type": "markdown",
   "id": "caa5130b",
   "metadata": {
    "papermill": {
     "duration": 0.048042,
     "end_time": "2022-05-29T14:46:03.584568",
     "exception": false,
     "start_time": "2022-05-29T14:46:03.536526",
     "status": "completed"
    },
    "tags": []
   },
   "source": [
    "There are some misspelled Initials like Miller or Me that stand for Miss. Let`s replace them with Miss and same thing for other values."
   ]
  },
  {
   "cell_type": "code",
   "execution_count": null,
   "id": "1fed4b9c",
   "metadata": {
    "papermill": {
     "duration": 0.062437,
     "end_time": "2022-05-29T14:46:03.696728",
     "exception": false,
     "start_time": "2022-05-29T14:46:03.634291",
     "status": "completed"
    },
    "tags": []
   },
   "outputs": [],
   "source": [
    "df['Initial'].replace(['Mlle','Mme','Ms','Dr','Major','Lady','Countess','Jonkheer','Col','Rev','Capt','Sir','Don'],\n",
    "                      ['Miss','Miss','Miss','Mr','Mr','Mrs','Mrs','Other','Other','Other','Mr','Mr','Mr'],\n",
    "                      inplace=True)"
   ]
  },
  {
   "cell_type": "code",
   "execution_count": null,
   "id": "58972c23",
   "metadata": {
    "papermill": {
     "duration": 0.061733,
     "end_time": "2022-05-29T14:46:03.808194",
     "exception": false,
     "start_time": "2022-05-29T14:46:03.746461",
     "status": "completed"
    },
    "tags": []
   },
   "outputs": [],
   "source": [
    "df.groupby('Initial')['Age'].mean() # check the average age by Initials"
   ]
  },
  {
   "cell_type": "markdown",
   "id": "2ce2e425",
   "metadata": {
    "papermill": {
     "duration": 0.049503,
     "end_time": "2022-05-29T14:46:03.906227",
     "exception": false,
     "start_time": "2022-05-29T14:46:03.856724",
     "status": "completed"
    },
    "tags": []
   },
   "source": [
    "Filling NaN Ages"
   ]
  },
  {
   "cell_type": "code",
   "execution_count": null,
   "id": "af317ca2",
   "metadata": {
    "papermill": {
     "duration": 0.066772,
     "end_time": "2022-05-29T14:46:04.024074",
     "exception": false,
     "start_time": "2022-05-29T14:46:03.957302",
     "status": "completed"
    },
    "tags": []
   },
   "outputs": [],
   "source": [
    "# Assigning the NaN Values with the Ceil values of the mean ages\n",
    "df.loc[(df.Age.isnull())&(df.Initial=='Mr'),'Age']=33\n",
    "df.loc[(df.Age.isnull())&(df.Initial=='Mrs'),'Age']=36\n",
    "df.loc[(df.Age.isnull())&(df.Initial=='Master'),'Age']=5\n",
    "df.loc[(df.Age.isnull())&(df.Initial=='Miss'),'Age']=22\n",
    "df.loc[(df.Age.isnull())&(df.Initial=='Other'),'Age']=46"
   ]
  },
  {
   "cell_type": "code",
   "execution_count": null,
   "id": "694f58cd",
   "metadata": {
    "papermill": {
     "duration": 0.060226,
     "end_time": "2022-05-29T14:46:04.135319",
     "exception": false,
     "start_time": "2022-05-29T14:46:04.075093",
     "status": "completed"
    },
    "tags": []
   },
   "outputs": [],
   "source": [
    "df.Age.isnull().any() # no null values left"
   ]
  },
  {
   "cell_type": "code",
   "execution_count": null,
   "id": "c8776662",
   "metadata": {
    "papermill": {
     "duration": 0.509,
     "end_time": "2022-05-29T14:46:04.693330",
     "exception": false,
     "start_time": "2022-05-29T14:46:04.184330",
     "status": "completed"
    },
    "tags": []
   },
   "outputs": [],
   "source": [
    "f,ax=plt.subplots(1,2,figsize=(12,4))\n",
    "df[df['Survived']==0].Age.plot.hist(ax=ax[0],bins=20, edgecolor='black', color='firebrick')\n",
    "ax[0].set_title('Survived (0)')\n",
    "x1=list(range(0,85,5))\n",
    "ax[0].set_xticks(x1)\n",
    "df[df['Survived']==1].Age.plot.hist(ax=ax[1],color='royalblue',bins=20,edgecolor='black')\n",
    "ax[1].set_title('Survived (1)')\n",
    "x2=list(range(0,85,5))\n",
    "ax[1].set_xticks(x2)\n",
    "plt.show()"
   ]
  },
  {
   "cell_type": "markdown",
   "id": "eb08529f",
   "metadata": {
    "papermill": {
     "duration": 0.048567,
     "end_time": "2022-05-29T14:46:04.793738",
     "exception": false,
     "start_time": "2022-05-29T14:46:04.745171",
     "status": "completed"
    },
    "tags": []
   },
   "source": [
    "#### SibSp feature\n",
    "This feature is preserved as it is"
   ]
  },
  {
   "cell_type": "markdown",
   "id": "7615efff",
   "metadata": {
    "papermill": {
     "duration": 0.050184,
     "end_time": "2022-05-29T14:46:04.893163",
     "exception": false,
     "start_time": "2022-05-29T14:46:04.842979",
     "status": "completed"
    },
    "tags": []
   },
   "source": [
    "#### Parch feature\n",
    "This feature is preserved as it is"
   ]
  },
  {
   "cell_type": "markdown",
   "id": "8a73d0e8",
   "metadata": {
    "papermill": {
     "duration": 0.05047,
     "end_time": "2022-05-29T14:46:04.995087",
     "exception": false,
     "start_time": "2022-05-29T14:46:04.944617",
     "status": "completed"
    },
    "tags": []
   },
   "source": [
    "#### Ticket feature\n",
    "This feature is a non-numeric feature. In this form, we will not be able to use this feature. There is no missing information in this feature. For now, we will leave this feature as it is."
   ]
  },
  {
   "cell_type": "markdown",
   "id": "017d238e",
   "metadata": {
    "papermill": {
     "duration": 0.048924,
     "end_time": "2022-05-29T14:46:05.092957",
     "exception": false,
     "start_time": "2022-05-29T14:46:05.044033",
     "status": "completed"
    },
    "tags": []
   },
   "source": [
    "#### Fare feature\n",
    "There are no missing in this feature. This feature consists of numeric values. But they are very different. For now, we will leave this feature unchanged."
   ]
  },
  {
   "cell_type": "code",
   "execution_count": null,
   "id": "1707715d",
   "metadata": {
    "papermill": {
     "duration": 0.060185,
     "end_time": "2022-05-29T14:46:05.201474",
     "exception": false,
     "start_time": "2022-05-29T14:46:05.141289",
     "status": "completed"
    },
    "tags": []
   },
   "outputs": [],
   "source": [
    "print('Highest Fare was:',df['Fare'].max())\n",
    "print('Lowest Fare was:',df['Fare'].min())\n",
    "print('Average Fare was:',df['Fare'].mean())"
   ]
  },
  {
   "cell_type": "markdown",
   "id": "d72ff55e",
   "metadata": {
    "papermill": {
     "duration": 0.049231,
     "end_time": "2022-05-29T14:46:05.299087",
     "exception": false,
     "start_time": "2022-05-29T14:46:05.249856",
     "status": "completed"
    },
    "tags": []
   },
   "source": [
    "#### Cabin feature\n",
    "A lot of NaN values (687) and also many passengers have multiple cabins. We will probably need to drop this feature."
   ]
  },
  {
   "cell_type": "markdown",
   "id": "9686fa52",
   "metadata": {
    "papermill": {
     "duration": 0.047749,
     "end_time": "2022-05-29T14:46:05.394936",
     "exception": false,
     "start_time": "2022-05-29T14:46:05.347187",
     "status": "completed"
    },
    "tags": []
   },
   "source": [
    "#### Embarked feature\n",
    "There are 2 missing values. But they can be filled in."
   ]
  },
  {
   "cell_type": "code",
   "execution_count": null,
   "id": "cf59abd7",
   "metadata": {
    "papermill": {
     "duration": 0.135845,
     "end_time": "2022-05-29T14:46:05.579949",
     "exception": false,
     "start_time": "2022-05-29T14:46:05.444104",
     "status": "completed"
    },
    "tags": []
   },
   "outputs": [],
   "source": [
    "pd.crosstab([df.Embarked,df.Pclass],[df.Sex,df.Survived],margins=True).style.background_gradient(cmap='BuPu')"
   ]
  },
  {
   "cell_type": "markdown",
   "id": "6c965c60",
   "metadata": {
    "papermill": {
     "duration": 0.0518,
     "end_time": "2022-05-29T14:46:05.682890",
     "exception": false,
     "start_time": "2022-05-29T14:46:05.631090",
     "status": "completed"
    },
    "tags": []
   },
   "source": [
    "As we saw that maximum passengers boarded from Port S, we replace NaN with S."
   ]
  },
  {
   "cell_type": "code",
   "execution_count": null,
   "id": "aa0a3741",
   "metadata": {
    "papermill": {
     "duration": 0.058524,
     "end_time": "2022-05-29T14:46:05.794699",
     "exception": false,
     "start_time": "2022-05-29T14:46:05.736175",
     "status": "completed"
    },
    "tags": []
   },
   "outputs": [],
   "source": [
    "df['Embarked'].fillna('S',inplace=True)"
   ]
  },
  {
   "cell_type": "code",
   "execution_count": null,
   "id": "76c6c496",
   "metadata": {
    "papermill": {
     "duration": 0.060838,
     "end_time": "2022-05-29T14:46:05.904504",
     "exception": false,
     "start_time": "2022-05-29T14:46:05.843666",
     "status": "completed"
    },
    "tags": []
   },
   "outputs": [],
   "source": [
    "df.Embarked.isnull().any()# now no NaN values"
   ]
  },
  {
   "cell_type": "markdown",
   "id": "0daf541e",
   "metadata": {
    "papermill": {
     "duration": 0.048981,
     "end_time": "2022-05-29T14:46:06.003410",
     "exception": false,
     "start_time": "2022-05-29T14:46:05.954429",
     "status": "completed"
    },
    "tags": []
   },
   "source": [
    "### 4.Feature Engineering / Feature Selection\n",
    "Let's create a heat map and see how different features correlate with each other."
   ]
  },
  {
   "cell_type": "code",
   "execution_count": null,
   "id": "4cd90272",
   "metadata": {
    "papermill": {
     "duration": 0.552487,
     "end_time": "2022-05-29T14:46:06.605312",
     "exception": false,
     "start_time": "2022-05-29T14:46:06.052825",
     "status": "completed"
    },
    "tags": []
   },
   "outputs": [],
   "source": [
    "plt.figure(figsize=(12,4))\n",
    "sns.heatmap(df.corr(), annot=True, center=0, linewidths=.5, fmt='.2f', vmin=-1, vmax=1, cmap='BuPu')"
   ]
  },
  {
   "cell_type": "markdown",
   "id": "7c813947",
   "metadata": {
    "papermill": {
     "duration": 0.049187,
     "end_time": "2022-05-29T14:46:06.705204",
     "exception": false,
     "start_time": "2022-05-29T14:46:06.656017",
     "status": "completed"
    },
    "tags": []
   },
   "source": [
    "The heat map shows how these objects correlate. But in fact they are not strongly correlated. The highest correlation is observed between SibSp and Patch. From this we conclude that we can continue working with all the features."
   ]
  },
  {
   "cell_type": "markdown",
   "id": "60874f0d",
   "metadata": {
    "papermill": {
     "duration": 0.050309,
     "end_time": "2022-05-29T14:46:06.805162",
     "exception": false,
     "start_time": "2022-05-29T14:46:06.754853",
     "status": "completed"
    },
    "tags": []
   },
   "source": [
    "#### PassengerId feature\n",
    "Cannot be categorised."
   ]
  },
  {
   "cell_type": "code",
   "execution_count": null,
   "id": "9ff285e3",
   "metadata": {
    "papermill": {
     "duration": 0.063659,
     "end_time": "2022-05-29T14:46:06.919341",
     "exception": false,
     "start_time": "2022-05-29T14:46:06.855682",
     "status": "completed"
    },
    "tags": []
   },
   "outputs": [],
   "source": [
    "df.drop(['PassengerId'],axis=1,inplace=True)"
   ]
  },
  {
   "cell_type": "markdown",
   "id": "5dcff7c5",
   "metadata": {
    "papermill": {
     "duration": 0.05115,
     "end_time": "2022-05-29T14:46:07.022782",
     "exception": false,
     "start_time": "2022-05-29T14:46:06.971632",
     "status": "completed"
    },
    "tags": []
   },
   "source": [
    "#### Survived feature\n",
    "This feature is preserved as it is."
   ]
  },
  {
   "cell_type": "markdown",
   "id": "ea7252b3",
   "metadata": {
    "papermill": {
     "duration": 0.051126,
     "end_time": "2022-05-29T14:46:07.125251",
     "exception": false,
     "start_time": "2022-05-29T14:46:07.074125",
     "status": "completed"
    },
    "tags": []
   },
   "source": [
    "#### Pclass feature\n",
    "This feature is preserved as it is"
   ]
  },
  {
   "cell_type": "markdown",
   "id": "f07aae01",
   "metadata": {
    "papermill": {
     "duration": 0.050523,
     "end_time": "2022-05-29T14:46:07.228467",
     "exception": false,
     "start_time": "2022-05-29T14:46:07.177944",
     "status": "completed"
    },
    "tags": []
   },
   "source": [
    "#### Name feature"
   ]
  },
  {
   "cell_type": "code",
   "execution_count": null,
   "id": "93d69c37",
   "metadata": {
    "papermill": {
     "duration": 0.074708,
     "end_time": "2022-05-29T14:46:07.355553",
     "exception": false,
     "start_time": "2022-05-29T14:46:07.280845",
     "status": "completed"
    },
    "tags": []
   },
   "outputs": [],
   "source": [
    "df['Initial'].replace(['Mr','Mrs','Miss','Master','Other'],[0,1,2,3,4],inplace=True)"
   ]
  },
  {
   "cell_type": "markdown",
   "id": "70ddf087",
   "metadata": {
    "papermill": {
     "duration": 0.052611,
     "end_time": "2022-05-29T14:46:07.459095",
     "exception": false,
     "start_time": "2022-05-29T14:46:07.406484",
     "status": "completed"
    },
    "tags": []
   },
   "source": [
    "We don't need name feature as it cannot be converted into any categorical value."
   ]
  },
  {
   "cell_type": "code",
   "execution_count": null,
   "id": "c720b510",
   "metadata": {
    "papermill": {
     "duration": 0.061878,
     "end_time": "2022-05-29T14:46:07.577222",
     "exception": false,
     "start_time": "2022-05-29T14:46:07.515344",
     "status": "completed"
    },
    "tags": []
   },
   "outputs": [],
   "source": [
    "df.drop(['Name'],axis=1,inplace=True)"
   ]
  },
  {
   "cell_type": "markdown",
   "id": "0b265fff",
   "metadata": {
    "papermill": {
     "duration": 0.052867,
     "end_time": "2022-05-29T14:46:07.682096",
     "exception": false,
     "start_time": "2022-05-29T14:46:07.629229",
     "status": "completed"
    },
    "tags": []
   },
   "source": [
    "#### Sex feature"
   ]
  },
  {
   "cell_type": "code",
   "execution_count": null,
   "id": "a3dccc35",
   "metadata": {
    "papermill": {
     "duration": 0.063347,
     "end_time": "2022-05-29T14:46:07.798164",
     "exception": false,
     "start_time": "2022-05-29T14:46:07.734817",
     "status": "completed"
    },
    "tags": []
   },
   "outputs": [],
   "source": [
    "df['Sex'].replace(['male','female'],[0,1],inplace=True)"
   ]
  },
  {
   "cell_type": "markdown",
   "id": "0c67bc1d",
   "metadata": {
    "papermill": {
     "duration": 0.049865,
     "end_time": "2022-05-29T14:46:07.898155",
     "exception": false,
     "start_time": "2022-05-29T14:46:07.848290",
     "status": "completed"
    },
    "tags": []
   },
   "source": [
    "#### Age feature"
   ]
  },
  {
   "cell_type": "code",
   "execution_count": null,
   "id": "1fecd598",
   "metadata": {
    "papermill": {
     "duration": 0.080634,
     "end_time": "2022-05-29T14:46:08.031989",
     "exception": false,
     "start_time": "2022-05-29T14:46:07.951355",
     "status": "completed"
    },
    "tags": []
   },
   "outputs": [],
   "source": [
    "df['Age_group']=0\n",
    "df.loc[df['Age']<=16,'Age_group']=0\n",
    "df.loc[(df['Age']>16)&(df['Age']<=32),'Age_group']=1\n",
    "df.loc[(df['Age']>32)&(df['Age']<=48),'Age_group']=2\n",
    "df.loc[(df['Age']>48)&(df['Age']<=64),'Age_group']=3\n",
    "df.loc[df['Age']>64,'Age_group']=4\n",
    "df.head(3)"
   ]
  },
  {
   "cell_type": "code",
   "execution_count": null,
   "id": "6739ca99",
   "metadata": {
    "papermill": {
     "duration": 0.073674,
     "end_time": "2022-05-29T14:46:08.156629",
     "exception": false,
     "start_time": "2022-05-29T14:46:08.082955",
     "status": "completed"
    },
    "tags": []
   },
   "outputs": [],
   "source": [
    "df['Age_group'].value_counts().to_frame().style.background_gradient(cmap='BuPu')#checking the number of passenegers in each band"
   ]
  },
  {
   "cell_type": "markdown",
   "id": "03c2dcf7",
   "metadata": {
    "papermill": {
     "duration": 0.05047,
     "end_time": "2022-05-29T14:46:08.258059",
     "exception": false,
     "start_time": "2022-05-29T14:46:08.207589",
     "status": "completed"
    },
    "tags": []
   },
   "source": [
    "We have the Age_group feature. So we can drop the Age feature."
   ]
  },
  {
   "cell_type": "code",
   "execution_count": null,
   "id": "9f328424",
   "metadata": {
    "papermill": {
     "duration": 0.06167,
     "end_time": "2022-05-29T14:46:08.371483",
     "exception": false,
     "start_time": "2022-05-29T14:46:08.309813",
     "status": "completed"
    },
    "tags": []
   },
   "outputs": [],
   "source": [
    "df.drop(['Age'],axis=1,inplace=True)"
   ]
  },
  {
   "cell_type": "markdown",
   "id": "a95d94f3",
   "metadata": {
    "papermill": {
     "duration": 0.053208,
     "end_time": "2022-05-29T14:46:08.476025",
     "exception": false,
     "start_time": "2022-05-29T14:46:08.422817",
     "status": "completed"
    },
    "tags": []
   },
   "source": [
    "#### SibSp feature\n",
    "This feature represents whether a person is alone or with his family members.\n",
    "\n",
    "Sibling = brother, sister, stepbrother, stepsister\n",
    "\n",
    "Spouse = husband, wife"
   ]
  },
  {
   "cell_type": "code",
   "execution_count": null,
   "id": "87ca739c",
   "metadata": {
    "papermill": {
     "duration": 0.08483,
     "end_time": "2022-05-29T14:46:08.614394",
     "exception": false,
     "start_time": "2022-05-29T14:46:08.529564",
     "status": "completed"
    },
    "tags": []
   },
   "outputs": [],
   "source": [
    "pd.crosstab([df.SibSp],df.Survived).style.background_gradient(cmap='BuPu')"
   ]
  },
  {
   "cell_type": "code",
   "execution_count": null,
   "id": "5267da18",
   "metadata": {
    "papermill": {
     "duration": 0.090422,
     "end_time": "2022-05-29T14:46:08.756362",
     "exception": false,
     "start_time": "2022-05-29T14:46:08.665940",
     "status": "completed"
    },
    "tags": []
   },
   "outputs": [],
   "source": [
    "pd.crosstab(df.SibSp,df.Pclass).style.background_gradient(cmap='BuPu')"
   ]
  },
  {
   "cell_type": "markdown",
   "id": "bf27ef9d",
   "metadata": {
    "papermill": {
     "duration": 0.051235,
     "end_time": "2022-05-29T14:46:08.858839",
     "exception": false,
     "start_time": "2022-05-29T14:46:08.807604",
     "status": "completed"
    },
    "tags": []
   },
   "source": [
    "#### Parch feature"
   ]
  },
  {
   "cell_type": "code",
   "execution_count": null,
   "id": "30a8044c",
   "metadata": {
    "papermill": {
     "duration": 0.08651,
     "end_time": "2022-05-29T14:46:08.996678",
     "exception": false,
     "start_time": "2022-05-29T14:46:08.910168",
     "status": "completed"
    },
    "tags": []
   },
   "outputs": [],
   "source": [
    "pd.crosstab(df.Parch,df.Pclass).style.background_gradient(cmap='BuPu')"
   ]
  },
  {
   "cell_type": "markdown",
   "id": "2aebf7b0",
   "metadata": {
    "papermill": {
     "duration": 0.051162,
     "end_time": "2022-05-29T14:46:09.099007",
     "exception": false,
     "start_time": "2022-05-29T14:46:09.047845",
     "status": "completed"
    },
    "tags": []
   },
   "source": [
    "#### Ticket feature\n",
    "It is any random string that cannot be categorised."
   ]
  },
  {
   "cell_type": "code",
   "execution_count": null,
   "id": "5403e00b",
   "metadata": {
    "papermill": {
     "duration": 0.062335,
     "end_time": "2022-05-29T14:46:09.215776",
     "exception": false,
     "start_time": "2022-05-29T14:46:09.153441",
     "status": "completed"
    },
    "tags": []
   },
   "outputs": [],
   "source": [
    "df.drop(['Ticket'],axis=1,inplace=True)"
   ]
  },
  {
   "cell_type": "markdown",
   "id": "ed0510b1",
   "metadata": {
    "papermill": {
     "duration": 0.055383,
     "end_time": "2022-05-29T14:46:09.324715",
     "exception": false,
     "start_time": "2022-05-29T14:46:09.269332",
     "status": "completed"
    },
    "tags": []
   },
   "source": [
    "#### Fare feature"
   ]
  },
  {
   "cell_type": "code",
   "execution_count": null,
   "id": "584d0dd1",
   "metadata": {
    "papermill": {
     "duration": 0.089867,
     "end_time": "2022-05-29T14:46:09.467542",
     "exception": false,
     "start_time": "2022-05-29T14:46:09.377675",
     "status": "completed"
    },
    "tags": []
   },
   "outputs": [],
   "source": [
    "df['Fare_span']=pd.qcut(df['Fare'],4)\n",
    "df.groupby(['Fare_span'])['Survived'].mean().to_frame().style.background_gradient(cmap='BuPu')"
   ]
  },
  {
   "cell_type": "code",
   "execution_count": null,
   "id": "663ce2fe",
   "metadata": {
    "papermill": {
     "duration": 0.0735,
     "end_time": "2022-05-29T14:46:09.596033",
     "exception": false,
     "start_time": "2022-05-29T14:46:09.522533",
     "status": "completed"
    },
    "tags": []
   },
   "outputs": [],
   "source": [
    "df['Fare_gap']=0\n",
    "df.loc[df['Fare']<=7.91,'Fare_gap']=0\n",
    "df.loc[(df['Fare']>7.91)&(df['Fare']<=14.454),'Fare_gap']=1\n",
    "df.loc[(df['Fare']>14.454)&(df['Fare']<=31),'Fare_gap']=2\n",
    "df.loc[(df['Fare']>31)&(df['Fare']<=513),'Fare_gap']=3"
   ]
  },
  {
   "cell_type": "markdown",
   "id": "982cf1cd",
   "metadata": {
    "papermill": {
     "duration": 0.053626,
     "end_time": "2022-05-29T14:46:09.704211",
     "exception": false,
     "start_time": "2022-05-29T14:46:09.650585",
     "status": "completed"
    },
    "tags": []
   },
   "source": [
    "We have the Fare_gap feature. So we can do this:"
   ]
  },
  {
   "cell_type": "code",
   "execution_count": null,
   "id": "bc85ff19",
   "metadata": {
    "papermill": {
     "duration": 0.064286,
     "end_time": "2022-05-29T14:46:09.826854",
     "exception": false,
     "start_time": "2022-05-29T14:46:09.762568",
     "status": "completed"
    },
    "tags": []
   },
   "outputs": [],
   "source": [
    "df.drop(['Fare'],axis=1,inplace=True)"
   ]
  },
  {
   "cell_type": "code",
   "execution_count": null,
   "id": "33bfab01",
   "metadata": {
    "papermill": {
     "duration": 0.063982,
     "end_time": "2022-05-29T14:46:09.945385",
     "exception": false,
     "start_time": "2022-05-29T14:46:09.881403",
     "status": "completed"
    },
    "tags": []
   },
   "outputs": [],
   "source": [
    "df.drop(['Fare_span'],axis=1,inplace=True)"
   ]
  },
  {
   "cell_type": "markdown",
   "id": "cff1ef03",
   "metadata": {
    "papermill": {
     "duration": 0.05108,
     "end_time": "2022-05-29T14:46:10.048469",
     "exception": false,
     "start_time": "2022-05-29T14:46:09.997389",
     "status": "completed"
    },
    "tags": []
   },
   "source": [
    "#### Cabin feature\n",
    "A lot of NaN values and also many passengers have multiple cabins. So this is a useless feature."
   ]
  },
  {
   "cell_type": "code",
   "execution_count": null,
   "id": "39964c8e",
   "metadata": {
    "papermill": {
     "duration": 0.062157,
     "end_time": "2022-05-29T14:46:10.164978",
     "exception": false,
     "start_time": "2022-05-29T14:46:10.102821",
     "status": "completed"
    },
    "tags": []
   },
   "outputs": [],
   "source": [
    "df.drop(['Cabin'],axis=1,inplace=True)"
   ]
  },
  {
   "cell_type": "markdown",
   "id": "16a7254f",
   "metadata": {
    "papermill": {
     "duration": 0.050946,
     "end_time": "2022-05-29T14:46:10.267325",
     "exception": false,
     "start_time": "2022-05-29T14:46:10.216379",
     "status": "completed"
    },
    "tags": []
   },
   "source": [
    "#### Embarked feature"
   ]
  },
  {
   "cell_type": "code",
   "execution_count": null,
   "id": "ba01cc7d",
   "metadata": {
    "papermill": {
     "duration": 0.06221,
     "end_time": "2022-05-29T14:46:10.385830",
     "exception": false,
     "start_time": "2022-05-29T14:46:10.323620",
     "status": "completed"
    },
    "tags": []
   },
   "outputs": [],
   "source": [
    "df['Embarked'].replace(['S','C','Q'],[0,1,2],inplace=True)"
   ]
  },
  {
   "cell_type": "markdown",
   "id": "35cf50bf",
   "metadata": {
    "papermill": {
     "duration": 0.054406,
     "end_time": "2022-05-29T14:46:10.493777",
     "exception": false,
     "start_time": "2022-05-29T14:46:10.439371",
     "status": "completed"
    },
    "tags": []
   },
   "source": [
    "Looking at correlations of the original variables after Feature Engineering / Feature Selection:"
   ]
  },
  {
   "cell_type": "code",
   "execution_count": null,
   "id": "4e0d83ba",
   "metadata": {
    "papermill": {
     "duration": 0.690295,
     "end_time": "2022-05-29T14:46:11.237487",
     "exception": false,
     "start_time": "2022-05-29T14:46:10.547192",
     "status": "completed"
    },
    "tags": []
   },
   "outputs": [],
   "source": [
    "sns.heatmap(df.corr(),annot=True,cmap='BuPu',linewidths=0.2,annot_kws={'size':10})\n",
    "fig=plt.gcf()\n",
    "fig.set_size_inches(12,4)\n",
    "plt.xticks(fontsize=10)\n",
    "plt.yticks(fontsize=10)\n",
    "plt.show()"
   ]
  },
  {
   "cell_type": "code",
   "execution_count": null,
   "id": "1194a339",
   "metadata": {
    "papermill": {
     "duration": 0.074312,
     "end_time": "2022-05-29T14:46:11.364482",
     "exception": false,
     "start_time": "2022-05-29T14:46:11.290170",
     "status": "completed"
    },
    "tags": []
   },
   "outputs": [],
   "source": [
    "df"
   ]
  },
  {
   "cell_type": "markdown",
   "id": "219e5b62",
   "metadata": {
    "papermill": {
     "duration": 0.052499,
     "end_time": "2022-05-29T14:46:11.471105",
     "exception": false,
     "start_time": "2022-05-29T14:46:11.418606",
     "status": "completed"
    },
    "tags": []
   },
   "source": [
    "### 5.Machine Learning Models\n",
    "Now we will predict whether the passenger will survive or not using some classification algorithms. I will use the following algorithms to create the model:\n",
    "\n",
    "1)K-Nearest Neighbours\n",
    "\n",
    "2)Logistic Regression\n",
    "\n",
    "3)Support Vector Machines(Linear)\n",
    "\n",
    "4)Kernel Support Vector Machines (kernel-SVM or rbf-SVM)\n",
    "\n",
    "5)Naive Bayes\n",
    "\n",
    "6)Decision Tree"
   ]
  },
  {
   "cell_type": "code",
   "execution_count": null,
   "id": "94d4aee7",
   "metadata": {
    "papermill": {
     "duration": 0.710849,
     "end_time": "2022-05-29T14:46:12.235162",
     "exception": false,
     "start_time": "2022-05-29T14:46:11.524313",
     "status": "completed"
    },
    "tags": []
   },
   "outputs": [],
   "source": [
    "# importing the required ML packages\n",
    "from sklearn.neighbors import KNeighborsClassifier # KNN\n",
    "from sklearn.linear_model import LogisticRegression # logistic regression\n",
    "from sklearn.svm import LinearSVC # Linear Support Vector Machine (linear-SVM)\n",
    "from sklearn.svm import SVC # Kernel Support Vector Machines (kernel-SVM or rbf-SVM)\n",
    "from sklearn.naive_bayes import GaussianNB # Naive bayes\n",
    "from sklearn.tree import DecisionTreeClassifier # Decision Tree\n",
    "from sklearn.ensemble import RandomForestClassifier # Random Forest\n",
    "from sklearn.ensemble import GradientBoostingClassifier # Gradient boosting of regression trees\n",
    "from sklearn.neural_network import MLPClassifier # Multilayer Perceptrons (MLP)\n",
    "from sklearn.model_selection import train_test_split # training and testing data split\n",
    "from sklearn import metrics # accuracy measure\n",
    "from sklearn.metrics import confusion_matrix # it's for confusion matrix"
   ]
  },
  {
   "cell_type": "markdown",
   "id": "fec1cadb",
   "metadata": {
    "papermill": {
     "duration": 0.058314,
     "end_time": "2022-05-29T14:46:12.349945",
     "exception": false,
     "start_time": "2022-05-29T14:46:12.291631",
     "status": "completed"
    },
    "tags": []
   },
   "source": [
    "Dividing the original DataFrame by X_trail, X_test, y_train, y_test in a certain proportion (in our case 70% and 30%) from sklearn.model_selection import train_test_split : X_train, X_test, y_train, y_test = train_test_split(X, y, test_size = 0.30, random_state = 11)"
   ]
  },
  {
   "cell_type": "code",
   "execution_count": null,
   "id": "a696b5a9",
   "metadata": {
    "papermill": {
     "duration": 0.07767,
     "end_time": "2022-05-29T14:46:12.486413",
     "exception": false,
     "start_time": "2022-05-29T14:46:12.408743",
     "status": "completed"
    },
    "tags": []
   },
   "outputs": [],
   "source": [
    "train,test=train_test_split(df,test_size=0.3,random_state=11,stratify=df['Survived'])\n",
    "X_train=train[train.columns[1:]]\n",
    "y_train=train[train.columns[:1]]\n",
    "X_test=test[test.columns[1:]]\n",
    "y_test=test[test.columns[:1]]\n",
    "X=df[df.columns[1:]]\n",
    "y=df['Survived']"
   ]
  },
  {
   "cell_type": "markdown",
   "id": "c743e6ef",
   "metadata": {
    "papermill": {
     "duration": 0.054416,
     "end_time": "2022-05-29T14:46:12.599095",
     "exception": false,
     "start_time": "2022-05-29T14:46:12.544679",
     "status": "completed"
    },
    "tags": []
   },
   "source": [
    "#### K-Nearest Neighbours (KNN)"
   ]
  },
  {
   "cell_type": "code",
   "execution_count": null,
   "id": "6b0bbbd3",
   "metadata": {
    "papermill": {
     "duration": 0.088572,
     "end_time": "2022-05-29T14:46:12.742728",
     "exception": false,
     "start_time": "2022-05-29T14:46:12.654156",
     "status": "completed"
    },
    "tags": []
   },
   "outputs": [],
   "source": [
    "knn=KNeighborsClassifier() \n",
    "knn.fit(X_train,y_train)\n",
    "prediction_knn=knn.predict(X_test)\n",
    "print('The accuracy of the KNN is',metrics.accuracy_score(prediction_knn,y_test))"
   ]
  },
  {
   "cell_type": "code",
   "execution_count": null,
   "id": "40b068d0",
   "metadata": {
    "papermill": {
     "duration": 0.801601,
     "end_time": "2022-05-29T14:46:13.598270",
     "exception": false,
     "start_time": "2022-05-29T14:46:12.796669",
     "status": "completed"
    },
    "tags": []
   },
   "outputs": [],
   "source": [
    "test_accuracy = []\n",
    "# trying n_neighbors from 1 to 30\n",
    "neighbors_settings = range(1, 31)\n",
    "for n_neighbors in neighbors_settings:\n",
    "    # we are building a model\n",
    "    knn = KNeighborsClassifier(n_neighbors=n_neighbors)\n",
    "    knn.fit(X_train, y_train)\n",
    "    # we are recording the accuracy for the test set\n",
    "    test_accuracy.append(knn.score(X_test, y_test))\n",
    "\n",
    "plt.plot(neighbors_settings, test_accuracy, label=\"accuracy on the test set\",color='royalblue')\n",
    "plt.ylabel(\"accuracy\")\n",
    "plt.xlabel(\"k - number of neighbors\")\n",
    "plt.legend()\n",
    "print('Accuracies for different values of k are:', test_accuracy)\n",
    "print('max accuracy =',max(test_accuracy))"
   ]
  },
  {
   "cell_type": "markdown",
   "id": "9d242b54",
   "metadata": {
    "papermill": {
     "duration": 0.057758,
     "end_time": "2022-05-29T14:46:13.712730",
     "exception": false,
     "start_time": "2022-05-29T14:46:13.654972",
     "status": "completed"
    },
    "tags": []
   },
   "source": [
    "#### Logistic Regression"
   ]
  },
  {
   "cell_type": "code",
   "execution_count": null,
   "id": "b9d6d0f9",
   "metadata": {
    "papermill": {
     "duration": 0.080873,
     "end_time": "2022-05-29T14:46:13.849144",
     "exception": false,
     "start_time": "2022-05-29T14:46:13.768271",
     "status": "completed"
    },
    "tags": []
   },
   "outputs": [],
   "source": [
    "logreg = LogisticRegression()\n",
    "logreg.fit(X_train,y_train)\n",
    "prediction_logreg=logreg.predict(X_test)\n",
    "print('The accuracy of the Logistic Regression is',metrics.accuracy_score(prediction_logreg,y_test))"
   ]
  },
  {
   "cell_type": "markdown",
   "id": "58315519",
   "metadata": {
    "papermill": {
     "duration": 0.056776,
     "end_time": "2022-05-29T14:46:13.959824",
     "exception": false,
     "start_time": "2022-05-29T14:46:13.903048",
     "status": "completed"
    },
    "tags": []
   },
   "source": [
    "#### Linear Support Vector Machine (linear-SVM)"
   ]
  },
  {
   "cell_type": "code",
   "execution_count": null,
   "id": "804cacf4",
   "metadata": {
    "papermill": {
     "duration": 0.09962,
     "end_time": "2022-05-29T14:46:14.112861",
     "exception": false,
     "start_time": "2022-05-29T14:46:14.013241",
     "status": "completed"
    },
    "tags": []
   },
   "outputs": [],
   "source": [
    "linear_svm=LinearSVC()\n",
    "linear_svm.fit(X_train,y_train)\n",
    "prediction_linear_svm=linear_svm.predict(X_test)\n",
    "print('Accuracy for linear SVM on the training set is', linear_svm.score(X_train, y_train))\n",
    "print('Accuracy for linear SVM on the test set is', linear_svm.score(X_test, y_test))"
   ]
  },
  {
   "cell_type": "markdown",
   "id": "03b3ffe8",
   "metadata": {
    "papermill": {
     "duration": 0.052835,
     "end_time": "2022-05-29T14:46:14.218535",
     "exception": false,
     "start_time": "2022-05-29T14:46:14.165700",
     "status": "completed"
    },
    "tags": []
   },
   "source": [
    "#### Kernel Support Vector Machines (kernel-SVM or rbf-SVM)"
   ]
  },
  {
   "cell_type": "code",
   "execution_count": null,
   "id": "89b38711",
   "metadata": {
    "papermill": {
     "duration": 0.109505,
     "end_time": "2022-05-29T14:46:14.381186",
     "exception": false,
     "start_time": "2022-05-29T14:46:14.271681",
     "status": "completed"
    },
    "tags": []
   },
   "outputs": [],
   "source": [
    "kerSVM=SVC(kernel='rbf', C=10, gamma=0.1, random_state=1)\n",
    "kerSVM.fit(X_train,y_train)\n",
    "prediction_kerSVM=kerSVM.predict(X_test)\n",
    "print('Accuracy for kernal SVM is',metrics.accuracy_score(prediction_kerSVM,y_test))"
   ]
  },
  {
   "cell_type": "markdown",
   "id": "60f8f3df",
   "metadata": {
    "papermill": {
     "duration": 0.054432,
     "end_time": "2022-05-29T14:46:14.497620",
     "exception": false,
     "start_time": "2022-05-29T14:46:14.443188",
     "status": "completed"
    },
    "tags": []
   },
   "source": [
    "#### Gaussian Naive Bayes"
   ]
  },
  {
   "cell_type": "code",
   "execution_count": null,
   "id": "d6a35514",
   "metadata": {
    "papermill": {
     "duration": 0.068473,
     "end_time": "2022-05-29T14:46:14.618862",
     "exception": false,
     "start_time": "2022-05-29T14:46:14.550389",
     "status": "completed"
    },
    "tags": []
   },
   "outputs": [],
   "source": [
    "gnb=GaussianNB()\n",
    "gnb.fit(X_train,y_train)\n",
    "prediction_gnb=gnb.predict(X_test)\n",
    "print('The accuracy of the NaiveBayes is',metrics.accuracy_score(prediction_gnb,y_test))"
   ]
  },
  {
   "cell_type": "markdown",
   "id": "52e6482a",
   "metadata": {
    "papermill": {
     "duration": 0.053857,
     "end_time": "2022-05-29T14:46:14.726341",
     "exception": false,
     "start_time": "2022-05-29T14:46:14.672484",
     "status": "completed"
    },
    "tags": []
   },
   "source": [
    "#### Decision Tree"
   ]
  },
  {
   "cell_type": "code",
   "execution_count": null,
   "id": "3b513030",
   "metadata": {
    "papermill": {
     "duration": 0.073746,
     "end_time": "2022-05-29T14:46:14.854179",
     "exception": false,
     "start_time": "2022-05-29T14:46:14.780433",
     "status": "completed"
    },
    "tags": []
   },
   "outputs": [],
   "source": [
    "dt=DecisionTreeClassifier()\n",
    "dt.fit(X_train,y_train)\n",
    "prediction_dt=dt.predict(X_test)\n",
    "print('The accuracy of the DecisionTree is',metrics.accuracy_score(prediction_dt,y_test))"
   ]
  },
  {
   "cell_type": "markdown",
   "id": "c9ed1582",
   "metadata": {
    "papermill": {
     "duration": 0.053365,
     "end_time": "2022-05-29T14:46:14.961601",
     "exception": false,
     "start_time": "2022-05-29T14:46:14.908236",
     "status": "completed"
    },
    "tags": []
   },
   "source": [
    "### 6.Evaluate & Interpret Results"
   ]
  },
  {
   "cell_type": "markdown",
   "id": "243294c0",
   "metadata": {
    "papermill": {
     "duration": 0.053082,
     "end_time": "2022-05-29T14:46:15.068792",
     "exception": false,
     "start_time": "2022-05-29T14:46:15.015710",
     "status": "completed"
    },
    "tags": []
   },
   "source": [
    "### 6.1.Cross Validation\n",
    "Cross-validation is a statistical method of assessing generalizing ability, which is more stable and thorough than splitting data into training and test sets. In cross-validation, the data is split several times and several models are built. The most commonly used variant of cross–validation is k-fold cross-validation, in which k is a user–defined number, usually 5 or 10. When performing a five-block cross-validation, the data is first split into five parts of (approximately) the same size, called folds.\n",
    "\n",
    "Then a sequence of models is constructed. The first model is trained using block 1 as a test set, and the remaining folds (2-5) act as a training set. The model is built on the basis of data located in folds 2-5, and then its accuracy is evaluated on the data of fold 1. Then the second model is trained, this time fold 2 is used as a test set, and the data in folds 1, 3, 4, and 5 serve as a training set. This process is repeated for folds 3, 4 and 5, which act as test suites. For each of these five splits of data into training and test sets, we calculate the accuracy. As a result, we fixed five values of accuracy. By default, cross_vol_score performs a three-fold cross-validation, returning three accuracy values. We can change the number of folds by setting a different value for the cv parameter.\n",
    "\n",
    "The most common way to summarize the accuracy calculated during cross–validation is to calculate the average value.\n",
    "\n",
    "In scikit-learn, cross-validation is implemented using the cross_vol_score function of the model selection module. Let's show how it works using the example of the Kernel Support Vector Machines (kernel-SVM or rbf-SVM) model."
   ]
  },
  {
   "cell_type": "code",
   "execution_count": null,
   "id": "3679851e",
   "metadata": {
    "papermill": {
     "duration": 0.199897,
     "end_time": "2022-05-29T14:46:15.322796",
     "exception": false,
     "start_time": "2022-05-29T14:46:15.122899",
     "status": "completed"
    },
    "tags": []
   },
   "outputs": [],
   "source": [
    "from sklearn.model_selection import cross_val_score\n",
    "scores = cross_val_score(kerSVM, X, y) # We can change the number of folds by setting a different value for the cv parameter\n",
    "print('cross-validation (CV) values: {}'.format(scores))"
   ]
  },
  {
   "cell_type": "code",
   "execution_count": null,
   "id": "5b65e2db",
   "metadata": {
    "papermill": {
     "duration": 0.062998,
     "end_time": "2022-05-29T14:46:15.440276",
     "exception": false,
     "start_time": "2022-05-29T14:46:15.377278",
     "status": "completed"
    },
    "tags": []
   },
   "outputs": [],
   "source": [
    "print('cross-validation (CV) mean for kernel-SVM: {:.2f}'.format(scores.mean()))"
   ]
  },
  {
   "cell_type": "markdown",
   "id": "51003193",
   "metadata": {
    "papermill": {
     "duration": 0.053045,
     "end_time": "2022-05-29T14:46:15.547024",
     "exception": false,
     "start_time": "2022-05-29T14:46:15.493979",
     "status": "completed"
    },
    "tags": []
   },
   "source": [
    "Scikit-learn allows you to configure the cross-validation process much more precisely by using the cross-validation splitter as a cv parameter. To do this, we must first import the Fold class from the model_selection module and create an instance of it by specifying the required number of folds:"
   ]
  },
  {
   "cell_type": "code",
   "execution_count": null,
   "id": "40c33dde",
   "metadata": {
    "papermill": {
     "duration": 0.385077,
     "end_time": "2022-05-29T14:46:15.985232",
     "exception": false,
     "start_time": "2022-05-29T14:46:15.600155",
     "status": "completed"
    },
    "tags": []
   },
   "outputs": [],
   "source": [
    "from sklearn.model_selection import KFold\n",
    "# we can pass the fold partitioning generator as a cv parameter to the cross_vol_score function\n",
    "kfold = KFold(n_splits=10,random_state=7, shuffle=True)  # \n",
    "print('cross-validation (CV) values:\\n{}'.format(cross_val_score(kerSVM, X, y, cv=kfold)))"
   ]
  },
  {
   "cell_type": "code",
   "execution_count": null,
   "id": "9a2dffc7",
   "metadata": {
    "papermill": {
     "duration": 0.380143,
     "end_time": "2022-05-29T14:46:16.420610",
     "exception": false,
     "start_time": "2022-05-29T14:46:16.040467",
     "status": "completed"
    },
    "tags": []
   },
   "outputs": [],
   "source": [
    "print('cross-validation (CV) mean for kernel-SVM:\\n{}'.format(cross_val_score(kerSVM, X, y, cv=kfold).mean()))"
   ]
  },
  {
   "cell_type": "markdown",
   "id": "88868e49",
   "metadata": {
    "execution": {
     "iopub.execute_input": "2022-05-28T10:26:13.714083Z",
     "iopub.status.busy": "2022-05-28T10:26:13.713684Z",
     "iopub.status.idle": "2022-05-28T10:26:13.721958Z",
     "shell.execute_reply": "2022-05-28T10:26:13.718997Z",
     "shell.execute_reply.started": "2022-05-28T10:26:13.71404Z"
    },
    "papermill": {
     "duration": 0.054276,
     "end_time": "2022-05-29T14:46:16.528550",
     "exception": false,
     "start_time": "2022-05-29T14:46:16.474274",
     "status": "completed"
    },
    "tags": []
   },
   "source": [
    "We can find cross-validation (CV) mean accuracy for all models:"
   ]
  },
  {
   "cell_type": "code",
   "execution_count": null,
   "id": "e678e3fa",
   "metadata": {
    "papermill": {
     "duration": 1.098627,
     "end_time": "2022-05-29T14:46:17.680476",
     "exception": false,
     "start_time": "2022-05-29T14:46:16.581849",
     "status": "completed"
    },
    "tags": []
   },
   "outputs": [],
   "source": [
    "from sklearn.model_selection import KFold             # for K-fold cross validation\n",
    "from sklearn.model_selection import cross_val_score   # score evaluation\n",
    "from sklearn.model_selection import cross_val_predict # prediction\n",
    "# we can pass the fold partitioning generator as a cv parameter to the cross_vol_score function\n",
    "kfold = KFold(n_splits=10, random_state=7, shuffle=True)   # mix and split the data into 10 equal parts\n",
    "cv_mean =[]\n",
    "acc_all =[]\n",
    "std =[]\n",
    "classifiers=['KNN','Logistic Regression','Linear SVM', 'kernel-SVM','Naive Bayes','Decision Tree']\n",
    "models=[KNeighborsClassifier(n_neighbors=20), LogisticRegression(), LinearSVC(),  \n",
    "     SVC(kernel='rbf', C=10, gamma=0.1, random_state=1) , GaussianNB(), DecisionTreeClassifier()]\n",
    "for i in models:\n",
    "    model = i\n",
    "    cv_res = cross_val_score(model,X,y, cv = kfold, scoring = \"accuracy\")   \n",
    "    cv_res = cv_res\n",
    "    cv_mean.append(cv_res.mean())\n",
    "    std.append(cv_res.std())\n",
    "    acc_all.append(cv_res)\n",
    "acc_mean =pd.DataFrame({'cross-validation (CV) mean': cv_mean,'standard deviation (Std)': std},index=classifiers)   \n",
    "acc_mean"
   ]
  },
  {
   "cell_type": "code",
   "execution_count": null,
   "id": "0884a089",
   "metadata": {
    "papermill": {
     "duration": 0.279369,
     "end_time": "2022-05-29T14:46:18.015783",
     "exception": false,
     "start_time": "2022-05-29T14:46:17.736414",
     "status": "completed"
    },
    "tags": []
   },
   "outputs": [],
   "source": [
    "acc_mean['cross-validation (CV) mean'].plot.bar(width=0.8, color='royalblue')\n",
    "plt.title('Cross-Validation Mean Accuracy')\n",
    "fig=plt.gcf()\n",
    "fig.set_size_inches(8,5)\n",
    "plt.show()"
   ]
  },
  {
   "cell_type": "markdown",
   "id": "920de3eb",
   "metadata": {
    "papermill": {
     "duration": 0.055499,
     "end_time": "2022-05-29T14:46:18.126660",
     "exception": false,
     "start_time": "2022-05-29T14:46:18.071161",
     "status": "completed"
    },
    "tags": []
   },
   "source": [
    "### 6.2.Grid search\n",
    "Finding the optimal values of the key parameters of the model (that is, the values that give the best generalizing ability) is a difficult task, but it is mandatory for almost all models and datasets. Since the search for optimal parameter values is a common task, the scikit-learn library offers standard methods to solve it. The most commonly used method is grid search, which is essentially an attempt to sort through all possible combinations of parameters of interest."
   ]
  },
  {
   "cell_type": "code",
   "execution_count": null,
   "id": "10df7fcc",
   "metadata": {
    "papermill": {
     "duration": 1.07612,
     "end_time": "2022-05-29T14:46:19.258275",
     "exception": false,
     "start_time": "2022-05-29T14:46:18.182155",
     "status": "completed"
    },
    "tags": []
   },
   "outputs": [],
   "source": [
    "best_score = 0\n",
    "for gamma in [0.001, 0.01, 0.1, 1, 10, 100]:\n",
    "    for C in [0.1, 2.0, 4.0, 6.0, 8.0, 10.0, 12.0]:\n",
    "        # for each combination of parameters, we train the SVC\n",
    "        svm = SVC(kernel='rbf',gamma=gamma, C=C) \n",
    "        svm.fit(X_train, y_train)\n",
    "        # we evaluate the quality of the SVC on the test set\n",
    "        score = svm.score(X_test, y_test)\n",
    "        # if we get the best accuracy value, we save the value and parameters\n",
    "        if score > best_score:\n",
    "            best_score = score\n",
    "            best_parameters = {'C': C, 'gamma': gamma}\n",
    "print('The best value of accuracy: {:.6f}'.format(best_score))\n",
    "print('Best parameter values: {}'.format(best_parameters))"
   ]
  },
  {
   "cell_type": "markdown",
   "id": "b7cf25c2",
   "metadata": {
    "papermill": {
     "duration": 0.05857,
     "end_time": "2022-05-29T14:46:19.374126",
     "exception": false,
     "start_time": "2022-05-29T14:46:19.315556",
     "status": "completed"
    },
    "tags": []
   },
   "source": [
    "Let's make sure that the parameters found are the best, that is, they give the greatest accuracy:"
   ]
  },
  {
   "cell_type": "code",
   "execution_count": null,
   "id": "12d79962",
   "metadata": {
    "papermill": {
     "duration": 0.088388,
     "end_time": "2022-05-29T14:46:19.518220",
     "exception": false,
     "start_time": "2022-05-29T14:46:19.429832",
     "status": "completed"
    },
    "tags": []
   },
   "outputs": [],
   "source": [
    "kerSVM=SVC(kernel='rbf', C=8.0, gamma=0.1, random_state=1) # C=1.5, gamma=0.1\n",
    "kerSVM.fit(X_train,y_train)\n",
    "prediction_kerSVM=kerSVM.predict(X_test)\n",
    "print('Accuracy for kernal SVM is',metrics.accuracy_score(prediction_kerSVM,y_test))"
   ]
  },
  {
   "cell_type": "code",
   "execution_count": null,
   "id": "1c35cfb3",
   "metadata": {
    "papermill": {
     "duration": 0.064098,
     "end_time": "2022-05-29T14:46:19.637444",
     "exception": false,
     "start_time": "2022-05-29T14:46:19.573346",
     "status": "completed"
    },
    "tags": []
   },
   "outputs": [],
   "source": [
    "svm_max = kerSVM"
   ]
  },
  {
   "cell_type": "markdown",
   "id": "f7ac8a85",
   "metadata": {
    "papermill": {
     "duration": 0.056804,
     "end_time": "2022-05-29T14:46:19.751392",
     "exception": false,
     "start_time": "2022-05-29T14:46:19.694588",
     "status": "completed"
    },
    "tags": []
   },
   "source": [
    "### Grid search with cross-validation"
   ]
  },
  {
   "cell_type": "code",
   "execution_count": null,
   "id": "7f0019ad",
   "metadata": {
    "papermill": {
     "duration": 0.065321,
     "end_time": "2022-05-29T14:46:19.872761",
     "exception": false,
     "start_time": "2022-05-29T14:46:19.807440",
     "status": "completed"
    },
    "tags": []
   },
   "outputs": [],
   "source": [
    "from sklearn.model_selection import GridSearchCV"
   ]
  },
  {
   "cell_type": "code",
   "execution_count": null,
   "id": "44fbc0a5",
   "metadata": {
    "papermill": {
     "duration": 0.071865,
     "end_time": "2022-05-29T14:46:20.001660",
     "exception": false,
     "start_time": "2022-05-29T14:46:19.929795",
     "status": "completed"
    },
    "tags": []
   },
   "outputs": [],
   "source": [
    "# we divide the data into a training + test set and a test set\n",
    "X_trainval, X_test, y_trainval, y_test = train_test_split(X, y, random_state=0)\n",
    "# we divide the training + test set into training and test sets\n",
    "X_train, X_valid, y_train, y_valid = train_test_split(X_trainval, y_trainval, random_state=1)"
   ]
  },
  {
   "cell_type": "code",
   "execution_count": null,
   "id": "b6f12564",
   "metadata": {
    "papermill": {
     "duration": 3.867656,
     "end_time": "2022-05-29T14:46:23.927554",
     "exception": false,
     "start_time": "2022-05-29T14:46:20.059898",
     "status": "completed"
    },
    "tags": []
   },
   "outputs": [],
   "source": [
    "for gamma in [0.001, 0.01, 0.1, 1, 10, 100]:\n",
    "    for C in [0.001, 0.01, 0.1, 1, 10, 100]:\n",
    "        # for each combination of parameters,\n",
    "        # we train SVC\n",
    "        kerSVM=SVC(kernel='rbf', C=C, gamma=gamma, random_state=1) \n",
    "        # performing a cross-validation\n",
    "        scores = cross_val_score(kerSVM, X_trainval, y_trainval, cv=5)\n",
    "        # we calculate the mean accuracy of the cross-validation\n",
    "        score = np.mean(scores)\n",
    "        # if we get the best accuracy value, we save the value and parameters\n",
    "        if score > best_score:\n",
    "            best_score = score\n",
    "            best_parameters = {'C': C, 'gamma': gamma}\n",
    "# re-building the model on the set, \n",
    "# obtained as a result of combining training and verification data\n",
    "kerSVM = SVC(**best_parameters)\n",
    "kerSVM.fit(X_trainval, y_trainval)"
   ]
  },
  {
   "cell_type": "code",
   "execution_count": null,
   "id": "813584e0",
   "metadata": {
    "papermill": {
     "duration": 0.068508,
     "end_time": "2022-05-29T14:46:24.056870",
     "exception": false,
     "start_time": "2022-05-29T14:46:23.988362",
     "status": "completed"
    },
    "tags": []
   },
   "outputs": [],
   "source": [
    "param_grid = {'C': [0.001, 0.01, 0.1, 1.5, 10, 100],'gamma': [0.001, 0.01, 0.1, 1, 10, 100]}\n",
    "print('Parameter Grid:\\n{}'.format(param_grid))"
   ]
  },
  {
   "cell_type": "markdown",
   "id": "476ec41f",
   "metadata": {
    "papermill": {
     "duration": 0.055151,
     "end_time": "2022-05-29T14:46:24.169200",
     "exception": false,
     "start_time": "2022-05-29T14:46:24.114049",
     "status": "completed"
    },
    "tags": []
   },
   "source": [
    "Now we can create an instance of the GridSearchCV class by passing the model (SVC), the grid of the desired parameters (param_grid), as well as the cross-validation strategy that we want to use (for example, a five-fold stratified cross-validation):"
   ]
  },
  {
   "cell_type": "code",
   "execution_count": null,
   "id": "29e92167",
   "metadata": {
    "papermill": {
     "duration": 0.064548,
     "end_time": "2022-05-29T14:46:24.289502",
     "exception": false,
     "start_time": "2022-05-29T14:46:24.224954",
     "status": "completed"
    },
    "tags": []
   },
   "outputs": [],
   "source": [
    "grid_search = GridSearchCV(SVC(kernel='rbf'), param_grid, cv=5)"
   ]
  },
  {
   "cell_type": "code",
   "execution_count": null,
   "id": "8e03629b",
   "metadata": {
    "papermill": {
     "duration": 0.070154,
     "end_time": "2022-05-29T14:46:24.416610",
     "exception": false,
     "start_time": "2022-05-29T14:46:24.346456",
     "status": "completed"
    },
    "tags": []
   },
   "outputs": [],
   "source": [
    "X_train, X_test, y_train, y_test = train_test_split(X, y, random_state=0)"
   ]
  },
  {
   "cell_type": "code",
   "execution_count": null,
   "id": "7a3b185c",
   "metadata": {
    "papermill": {
     "duration": 3.793824,
     "end_time": "2022-05-29T14:46:28.267190",
     "exception": false,
     "start_time": "2022-05-29T14:46:24.473366",
     "status": "completed"
    },
    "tags": []
   },
   "outputs": [],
   "source": [
    "grid_search.fit(X_train, y_train)"
   ]
  },
  {
   "cell_type": "code",
   "execution_count": null,
   "id": "73675d14",
   "metadata": {
    "papermill": {
     "duration": 0.073276,
     "end_time": "2022-05-29T14:46:28.397085",
     "exception": false,
     "start_time": "2022-05-29T14:46:28.323809",
     "status": "completed"
    },
    "tags": []
   },
   "outputs": [],
   "source": [
    "print('Accuracy on the test set: {:.2f}'.format(grid_search.score(X_test, y_test)))"
   ]
  },
  {
   "cell_type": "code",
   "execution_count": null,
   "id": "f45ca34e",
   "metadata": {
    "papermill": {
     "duration": 0.065168,
     "end_time": "2022-05-29T14:46:28.519077",
     "exception": false,
     "start_time": "2022-05-29T14:46:28.453909",
     "status": "completed"
    },
    "tags": []
   },
   "outputs": [],
   "source": [
    "print('Best parameter values: {}'.format(grid_search.best_params_))\n",
    "print('The best value is cross-validation. correctness: {:.2f}'.format(grid_search.best_score_))"
   ]
  },
  {
   "cell_type": "code",
   "execution_count": null,
   "id": "27967bcb",
   "metadata": {
    "papermill": {
     "duration": 0.067417,
     "end_time": "2022-05-29T14:46:28.642273",
     "exception": false,
     "start_time": "2022-05-29T14:46:28.574856",
     "status": "completed"
    },
    "tags": []
   },
   "outputs": [],
   "source": [
    "print('The best model:\\n{}'.format(grid_search.best_estimator_))"
   ]
  },
  {
   "cell_type": "markdown",
   "id": "9f0e8192",
   "metadata": {
    "papermill": {
     "duration": 0.055785,
     "end_time": "2022-05-29T14:46:28.753855",
     "exception": false,
     "start_time": "2022-05-29T14:46:28.698070",
     "status": "completed"
    },
    "tags": []
   },
   "source": [
    "### 6.3.Confusion Matrix\n",
    "An Confusion Matrix is a table or diagram showing the accuracy of predicting a classifier with respect to two or more classes. The classifier's predictions are on the X axis, and the classes on the Y axis.\n",
    "\n",
    "The table cells are filled with the number of classifier predictions. Correct predictions go diagonally from the upper left corner to the lower right."
   ]
  },
  {
   "cell_type": "code",
   "execution_count": null,
   "id": "8b4e682b",
   "metadata": {
    "papermill": {
     "duration": 2.146773,
     "end_time": "2022-05-29T14:46:30.956742",
     "exception": false,
     "start_time": "2022-05-29T14:46:28.809969",
     "status": "completed"
    },
    "tags": []
   },
   "outputs": [],
   "source": [
    "f,ax=plt.subplots(2,3,figsize=(13,11))\n",
    "kfold = KFold(n_splits=10, random_state=7, shuffle=True)   # mix and split the data into 10 equal parts\n",
    "\n",
    "y_pred=cross_val_predict(knn,X_test,y_test,cv=kfold)\n",
    "sns.heatmap(confusion_matrix(y_test,y_pred),ax=ax[0,0],annot=True, cmap='BuPu',fmt='2.0f')  \n",
    "ax[0,0].set_title('Matrix for KNN')\n",
    "\n",
    "y_pred = cross_val_predict(logreg,X_test,y_test,cv=kfold)\n",
    "sns.heatmap(confusion_matrix(y_test,y_pred),ax=ax[0,1],annot=True, cmap='BuPu',fmt='2.0f')\n",
    "ax[0,1].set_title('Matrix for Logistic Regression')\n",
    "\n",
    "y_pred = cross_val_predict(linear_svm,X_test,y_test,cv=kfold)\n",
    "sns.heatmap(confusion_matrix(y_test,y_pred),ax=ax[0,2],annot=True, cmap='BuPu', fmt='2.0f')\n",
    "ax[0,2].set_title('Matrix for linear-SVM')\n",
    "\n",
    "y_pred = cross_val_predict(kerSVM,X_test,y_test,cv=kfold)\n",
    "sns.heatmap(confusion_matrix(y_test,y_pred),ax=ax[1,0],annot=True, cmap='BuPu', fmt='2.0f')\n",
    "ax[1,0].set_title('Matrix for kernel-SVM or rbf-SVM')\n",
    "\n",
    "y_pred = cross_val_predict(gnb,X_test,y_test,cv=kfold)\n",
    "sns.heatmap(confusion_matrix(y_test,y_pred),ax=ax[1,1],annot=True, cmap='BuPu', fmt='2.0f')\n",
    "ax[1,1].set_title('Matrix for Gaussian Naive Bayes')\n",
    "\n",
    "y_pred = cross_val_predict(dt,X_test,y_test,cv=kfold)\n",
    "sns.heatmap(confusion_matrix(y_test,y_pred),ax=ax[1,2],annot=True, cmap='BuPu', fmt='2.0f')\n",
    "ax[1,2].set_title('Matrix for Decision Tree')\n",
    "\n",
    "plt.subplots_adjust(hspace=0.2,wspace=0.2)\n",
    "plt.show()"
   ]
  },
  {
   "cell_type": "markdown",
   "id": "9c972fea",
   "metadata": {
    "papermill": {
     "duration": 0.069051,
     "end_time": "2022-05-29T14:46:31.086717",
     "exception": false,
     "start_time": "2022-05-29T14:46:31.017666",
     "status": "completed"
    },
    "tags": []
   },
   "source": [
    "The elements of the main diagonal of the Confision Matrix correspond to the correct predictions (classification results). The upper-left forecast is called true negative (TN). The lower right forecast is called true positive (TP). the remaining elements show how many examples belonging to one class were mistakenly classified as another class. The lower left forecast is called false negative (FN). The upper right forecast is called false positive (FP)."
   ]
  },
  {
   "cell_type": "markdown",
   "id": "b78de406",
   "metadata": {
    "papermill": {
     "duration": 0.064454,
     "end_time": "2022-05-29T14:46:31.218802",
     "exception": false,
     "start_time": "2022-05-29T14:46:31.154348",
     "status": "completed"
    },
    "tags": []
   },
   "source": [
    "### 6.4.Additional metrics (precision, recall, F-measure)\n",
    "In addition to accuracy, there are other metrics for classification obtained using TP, FP, TN and FN.\n",
    "\n",
    "Accuracy = (TP + TN)/(TP + TN + FP + FN)\n",
    "\n",
    "Precision = TP/(TP + FP)\n",
    "\n",
    "Recall = TP/(TP + FN)\n",
    "\n",
    "F-measure = (2 * Precision * Recall)/(Precision + Recall) # also known as the f1-measure"
   ]
  },
  {
   "cell_type": "code",
   "execution_count": null,
   "id": "bd0a3041",
   "metadata": {
    "papermill": {
     "duration": 0.071398,
     "end_time": "2022-05-29T14:46:31.348969",
     "exception": false,
     "start_time": "2022-05-29T14:46:31.277571",
     "status": "completed"
    },
    "tags": []
   },
   "outputs": [],
   "source": [
    "from sklearn.metrics import accuracy_score, recall_score, precision_score, f1_score, classification_report\n",
    "from sklearn.metrics import roc_curve, roc_auc_score"
   ]
  },
  {
   "cell_type": "code",
   "execution_count": null,
   "id": "08330a13",
   "metadata": {
    "papermill": {
     "duration": 0.111617,
     "end_time": "2022-05-29T14:46:31.526235",
     "exception": false,
     "start_time": "2022-05-29T14:46:31.414618",
     "status": "completed"
    },
    "tags": []
   },
   "outputs": [],
   "source": [
    "kerSVM=SVC()\n",
    "kerSVM.fit(X_train, y_train)\n",
    "y_pred=kerSVM.predict(X_test)\n",
    "pd.DataFrame(confusion_matrix(y_test, y_pred),\n",
    "                index = [['Actual class', 'Actual class'], ['Negative', 'Positive']],\n",
    "                columns = [['Predicted class', 'Predicted class'], ['Negative', 'Positive']])"
   ]
  },
  {
   "cell_type": "code",
   "execution_count": null,
   "id": "926dfff5",
   "metadata": {
    "papermill": {
     "duration": 0.075857,
     "end_time": "2022-05-29T14:46:31.659052",
     "exception": false,
     "start_time": "2022-05-29T14:46:31.583195",
     "status": "completed"
    },
    "tags": []
   },
   "outputs": [],
   "source": [
    "print('Accuracy   :', accuracy_score(y_test, y_pred))\n",
    "print('Precision  :', precision_score(y_test, y_pred))\n",
    "print('Recall     :', recall_score(y_test, y_pred))\n",
    "print('f1-measure :', f1_score(y_test, y_pred))"
   ]
  },
  {
   "cell_type": "markdown",
   "id": "4e7f5a55",
   "metadata": {
    "papermill": {
     "duration": 0.056698,
     "end_time": "2022-05-29T14:46:31.774801",
     "exception": false,
     "start_time": "2022-05-29T14:46:31.718103",
     "status": "completed"
    },
    "tags": []
   },
   "source": [
    "sklearn has a convenient classification_report function that returns recall, precision and F-measure for each of the classes, as well as the number of instances of each class."
   ]
  },
  {
   "cell_type": "code",
   "execution_count": null,
   "id": "4eeb2828",
   "metadata": {
    "papermill": {
     "duration": 0.072467,
     "end_time": "2022-05-29T14:46:31.903569",
     "exception": false,
     "start_time": "2022-05-29T14:46:31.831102",
     "status": "completed"
    },
    "tags": []
   },
   "outputs": [],
   "source": [
    "print(classification_report(y_test, y_pred))"
   ]
  },
  {
   "cell_type": "markdown",
   "id": "4acb7052",
   "metadata": {
    "papermill": {
     "duration": 0.055806,
     "end_time": "2022-05-29T14:46:32.015889",
     "exception": false,
     "start_time": "2022-05-29T14:46:31.960083",
     "status": "completed"
    },
    "tags": []
   },
   "source": [
    "### 6.5.ROC Curve and AUC Score\n",
    "The ROC curve (Receiver Operating Characteristic curve) allows us to consider all threshold values for a given classifier, but instead of precision and recall, it shows the proportion of false positive rate (FPR) in comparison with the proportion of true positive rate (TPR). True positive rate (TPR) is just another name for recall. False positive rate (FPR) is the proportion of false positive examples from the total number of negative examples:\n",
    "\n",
    "Recall = TPR = TP/(TP + FN)\n",
    "\n",
    "FPR = FP /(FP + TN)"
   ]
  },
  {
   "cell_type": "code",
   "execution_count": null,
   "id": "fca318d6",
   "metadata": {
    "papermill": {
     "duration": 0.273892,
     "end_time": "2022-05-29T14:46:32.346483",
     "exception": false,
     "start_time": "2022-05-29T14:46:32.072591",
     "status": "completed"
    },
    "tags": []
   },
   "outputs": [],
   "source": [
    "from sklearn.metrics import roc_curve\n",
    "fpr, tpr, thresholds = roc_curve(y_test, kerSVM.decision_function(X_test))\n",
    "plt.plot(fpr, tpr, label='ROC Curve')\n",
    "plt.xlabel('FPR')\n",
    "plt.ylabel('TPR (Recall)')\n",
    "# we find the threshold value closest to zero\n",
    "close_zero = np.argmin(np.abs(thresholds))\n",
    "plt.plot(fpr[close_zero], tpr[close_zero], 'o', markersize=10,\n",
    "label='threshold 0', fillstyle='none', c='purple', mew=2)\n",
    "plt.legend(loc=4)"
   ]
  },
  {
   "cell_type": "markdown",
   "id": "b1add886",
   "metadata": {
    "papermill": {
     "duration": 0.059131,
     "end_time": "2022-05-29T14:46:32.463227",
     "exception": false,
     "start_time": "2022-05-29T14:46:32.404096",
     "status": "completed"
    },
    "tags": []
   },
   "source": [
    "We can calculate the Area Under Curve (AUC) - the area under ROC using the roc_auc_score function:"
   ]
  },
  {
   "cell_type": "code",
   "execution_count": null,
   "id": "aa88396a",
   "metadata": {
    "papermill": {
     "duration": 0.07928,
     "end_time": "2022-05-29T14:46:32.603055",
     "exception": false,
     "start_time": "2022-05-29T14:46:32.523775",
     "status": "completed"
    },
    "tags": []
   },
   "outputs": [],
   "source": [
    "from sklearn.metrics import roc_auc_score\n",
    "kerSVM_auc = roc_auc_score(y_test, kerSVM.decision_function(X_test))\n",
    "print('AUC for kerSVM: {:.3f}'.format(kerSVM_auc))"
   ]
  },
  {
   "cell_type": "markdown",
   "id": "3f4d1c6d",
   "metadata": {
    "papermill": {
     "duration": 0.059478,
     "end_time": "2022-05-29T14:46:32.720898",
     "exception": false,
     "start_time": "2022-05-29T14:46:32.661420",
     "status": "completed"
    },
    "tags": []
   },
   "source": [
    "### 6.6.Ensembling\n",
    "Ensembles are methods that combine multiple machine learning models to eventually produce a more powerful model."
   ]
  },
  {
   "cell_type": "markdown",
   "id": "62c37441",
   "metadata": {
    "papermill": {
     "duration": 0.057437,
     "end_time": "2022-05-29T14:46:32.838777",
     "exception": false,
     "start_time": "2022-05-29T14:46:32.781340",
     "status": "completed"
    },
    "tags": []
   },
   "source": [
    "### 6.6.1.Random Forests\n",
    "In fact, a random forest is a set of decision trees, where each tree is slightly different from the others. The idea of a random forest is that each tree can predict pretty well, but most likely retrains on parts of the data. If we build many trees that work well and are retrained to varying degrees, we can reduce overtraining by averaging their results."
   ]
  },
  {
   "cell_type": "code",
   "execution_count": null,
   "id": "98f6317c",
   "metadata": {
    "papermill": {
     "duration": 0.296496,
     "end_time": "2022-05-29T14:46:33.193916",
     "exception": false,
     "start_time": "2022-05-29T14:46:32.897420",
     "status": "completed"
    },
    "tags": []
   },
   "outputs": [],
   "source": [
    "rf=RandomForestClassifier(n_estimators=100)\n",
    "rf.fit(X_train,y_train)\n",
    "prediction_rf=rf.predict(X_test)\n",
    "print('The accuracy of the Random Forests is',metrics.accuracy_score(prediction_rf,y_test))"
   ]
  },
  {
   "cell_type": "markdown",
   "id": "4152a712",
   "metadata": {
    "papermill": {
     "duration": 0.056423,
     "end_time": "2022-05-29T14:46:33.307041",
     "exception": false,
     "start_time": "2022-05-29T14:46:33.250618",
     "status": "completed"
    },
    "tags": []
   },
   "source": [
    "#### Grid search for Random Forest"
   ]
  },
  {
   "cell_type": "code",
   "execution_count": null,
   "id": "2ebcfd4d",
   "metadata": {
    "papermill": {
     "duration": 4.842217,
     "end_time": "2022-05-29T14:46:38.206189",
     "exception": false,
     "start_time": "2022-05-29T14:46:33.363972",
     "status": "completed"
    },
    "tags": []
   },
   "outputs": [],
   "source": [
    "best_score = 0\n",
    "for n_estimators in [5, 10, 20, 40, 60, 80, 100, 120]:\n",
    "    for max_depth in [2,3,7,11,15]:\n",
    "        # for each combination of parameters, we train the SVC\n",
    "        rf = RandomForestClassifier(n_estimators=n_estimators,max_depth=max_depth)\n",
    "        rf.fit(X_train, y_train)\n",
    "        # evaluating the quality of Random Forest Classifier on a test set\n",
    "        score = rf.score(X_test, y_test)\n",
    "        # if we get the best accuracy value, we save the value and parameters\n",
    "        if score > best_score:\n",
    "            best_score = score\n",
    "            best_parameters = {'n_estimators': n_estimators, 'max_depth': max_depth}\n",
    "print('The best value of accuracy: {:.2f}'.format(best_score))\n",
    "print('Best parameter values: {}'.format(best_parameters))"
   ]
  },
  {
   "cell_type": "markdown",
   "id": "256c9222",
   "metadata": {
    "papermill": {
     "duration": 0.06106,
     "end_time": "2022-05-29T14:46:38.325183",
     "exception": false,
     "start_time": "2022-05-29T14:46:38.264123",
     "status": "completed"
    },
    "tags": []
   },
   "source": [
    "### 6.6.2.Voting Classifier\n",
    "The Scikit-learn library has a VotingClassifier, which is an excellent tool for using several machine learning models that are not similar to each other at once and combining them into one classifier. This reduces the risk of retraining, as well as incorrect interpretation of the results of any one single model.\n",
    "\n",
    "Among the VotingClassifier parameters there is a voting parameter with two possible values: 'hard' and 'soft'."
   ]
  },
  {
   "cell_type": "code",
   "execution_count": null,
   "id": "92c2e0d3",
   "metadata": {
    "papermill": {
     "duration": 4.894314,
     "end_time": "2022-05-29T14:46:43.277252",
     "exception": false,
     "start_time": "2022-05-29T14:46:38.382938",
     "status": "completed"
    },
    "tags": []
   },
   "outputs": [],
   "source": [
    "from sklearn.ensemble import VotingClassifier\n",
    "clf1 = KNeighborsClassifier() \n",
    "clf2 = LogisticRegression()\n",
    "clf3 = SVC(kernel='linear')\n",
    "clf4 = SVC(kernel='rbf')\n",
    "clf5 = GaussianNB()\n",
    "clf6 = DecisionTreeClassifier()\n",
    "clf7 = RandomForestClassifier()\n",
    "\n",
    "ensemble_hard=VotingClassifier(estimators=[('knn',KNeighborsClassifier(n_neighbors=20)),\n",
    "                                              ('lr',LogisticRegression(C=0.05)),\n",
    "                                              ('svm',SVC(kernel='linear',probability=True)),\n",
    "                                              ('rbf',SVC(probability=True,kernel='rbf',C=1.5,gamma=0.1)),\n",
    "                                              ('nb',GaussianNB()),\n",
    "                                              ('dt',DecisionTreeClassifier(random_state=0)),\n",
    "                                              ('rf',RandomForestClassifier(n_estimators=100, max_depth=3, random_state=0))\n",
    "                                            ],\n",
    "                       voting='hard').fit(X_train,y_train)\n",
    "print('The accuracy for ensembled model is:',ensemble_hard.score(X_test,y_test))\n",
    "cross=cross_val_score(ensemble_hard,X, y, cv = 10,scoring = \"accuracy\")\n",
    "print('The cross validated score is',cross.mean())"
   ]
  },
  {
   "cell_type": "markdown",
   "id": "36092f47",
   "metadata": {
    "papermill": {
     "duration": 0.061117,
     "end_time": "2022-05-29T14:46:43.400484",
     "exception": false,
     "start_time": "2022-05-29T14:46:43.339367",
     "status": "completed"
    },
    "tags": []
   },
   "source": [
    "### 6.6.3.Bagging\n",
    "Bagging (from Bootstrap aggregation) is a simple and very powerful ensemble method that combines predictions from multiple Machine learning methods together to predict more accurately than any single model.\n",
    "\n",
    "Bagging is based on the statistical bootstrap method, which allows you to evaluate many statistics of complex distributions. Bootstrap aggregation is a procedure that is used to reduce the excessive variance of algorithms."
   ]
  },
  {
   "cell_type": "code",
   "execution_count": null,
   "id": "af116832",
   "metadata": {
    "papermill": {
     "duration": 5.009679,
     "end_time": "2022-05-29T14:46:48.473833",
     "exception": false,
     "start_time": "2022-05-29T14:46:43.464154",
     "status": "completed"
    },
    "tags": []
   },
   "outputs": [],
   "source": [
    "# Bagging for KNN\n",
    "from sklearn.ensemble import BaggingClassifier\n",
    "model=BaggingClassifier(base_estimator=KNeighborsClassifier(n_neighbors=20),random_state=11,n_estimators=100)\n",
    "model.fit(X_train,y_train)\n",
    "prediction=model.predict(X_test)\n",
    "print('The accuracy for bagged KNN is:',metrics.accuracy_score(prediction,y_test))\n",
    "result=cross_val_score(model,X,y,cv=10,scoring='accuracy')\n",
    "print('The cross validated score for bagged KNN is:',result.mean())"
   ]
  },
  {
   "cell_type": "code",
   "execution_count": null,
   "id": "204edae5",
   "metadata": {
    "papermill": {
     "duration": 3.393816,
     "end_time": "2022-05-29T14:46:51.933376",
     "exception": false,
     "start_time": "2022-05-29T14:46:48.539560",
     "status": "completed"
    },
    "tags": []
   },
   "outputs": [],
   "source": [
    "# Bagging for DecisionTree\n",
    "model=BaggingClassifier(base_estimator=DecisionTreeClassifier(),random_state=0,n_estimators=100)\n",
    "model.fit(X_train,y_train)\n",
    "prediction=model.predict(X_test)\n",
    "print('The accuracy for bagged Decision Tree is:',metrics.accuracy_score(prediction,y_test))\n",
    "result=cross_val_score(model,X,y,cv=10,scoring='accuracy')\n",
    "print('The cross validated score for bagged Decision Tree is:',result.mean())"
   ]
  },
  {
   "cell_type": "markdown",
   "id": "7de00952",
   "metadata": {
    "papermill": {
     "duration": 0.063276,
     "end_time": "2022-05-29T14:46:52.060196",
     "exception": false,
     "start_time": "2022-05-29T14:46:51.996920",
     "status": "completed"
    },
    "tags": []
   },
   "source": [
    "### 6.6.4.Boosting\n",
    "Is it possible to get one strong model from a large number of relatively weak and simple models? By weak models we mean such models whose accuracy can be only slightly higher than random guessing.\n",
    "\n",
    "As Boosting, we will give an example of Adaboost."
   ]
  },
  {
   "cell_type": "markdown",
   "id": "8bdb43b0",
   "metadata": {
    "papermill": {
     "duration": 0.060497,
     "end_time": "2022-05-29T14:46:52.186410",
     "exception": false,
     "start_time": "2022-05-29T14:46:52.125913",
     "status": "completed"
    },
    "tags": []
   },
   "source": [
    "#### AdaBoost"
   ]
  },
  {
   "cell_type": "code",
   "execution_count": null,
   "id": "a7dfaec3",
   "metadata": {
    "papermill": {
     "duration": 2.419269,
     "end_time": "2022-05-29T14:46:54.669168",
     "exception": false,
     "start_time": "2022-05-29T14:46:52.249899",
     "status": "completed"
    },
    "tags": []
   },
   "outputs": [],
   "source": [
    "from sklearn.ensemble import AdaBoostClassifier\n",
    "ada=AdaBoostClassifier(n_estimators=100,random_state=0,learning_rate=0.1)\n",
    "result=cross_val_score(ada,X,y,cv=10,scoring='accuracy')\n",
    "print('The cross validated score for AdaBoost is:',result.mean())"
   ]
  },
  {
   "cell_type": "markdown",
   "id": "ca357bfb",
   "metadata": {
    "papermill": {
     "duration": 0.059927,
     "end_time": "2022-05-29T14:46:54.798124",
     "exception": false,
     "start_time": "2022-05-29T14:46:54.738197",
     "status": "completed"
    },
    "tags": []
   },
   "source": [
    "Gradient boosting of regression trees is another ensemble method that combines many trees to create a more powerful model. Despite the word \"regression\" in the name, these models can be used for regression and classification. Unlike a random forest, gradient boosting builds a sequence of trees in which each tree tries to correct the mistakes of the previous one."
   ]
  },
  {
   "cell_type": "markdown",
   "id": "e438a60e",
   "metadata": {
    "papermill": {
     "duration": 0.061473,
     "end_time": "2022-05-29T14:46:54.920473",
     "exception": false,
     "start_time": "2022-05-29T14:46:54.859000",
     "status": "completed"
    },
    "tags": []
   },
   "source": [
    "#### Gradient boosting of regression trees"
   ]
  },
  {
   "cell_type": "code",
   "execution_count": null,
   "id": "05b43b67",
   "metadata": {
    "papermill": {
     "duration": 0.171022,
     "end_time": "2022-05-29T14:46:55.152666",
     "exception": false,
     "start_time": "2022-05-29T14:46:54.981644",
     "status": "completed"
    },
    "tags": []
   },
   "outputs": [],
   "source": [
    "gbrt = GradientBoostingClassifier(random_state=0) \n",
    "gbrt.fit(X_train, y_train)\n",
    "prediction_gbrt=gbrt.predict(X_test)\n",
    "print('The accuracy of the Gradient boosting is',metrics.accuracy_score(prediction_gbrt,y_test))"
   ]
  },
  {
   "cell_type": "markdown",
   "id": "e0976a0e",
   "metadata": {
    "papermill": {
     "duration": 0.060075,
     "end_time": "2022-05-29T14:46:55.274782",
     "exception": false,
     "start_time": "2022-05-29T14:46:55.214707",
     "status": "completed"
    },
    "tags": []
   },
   "source": [
    "### 6.7.Neural networks (deep learning)\n",
    "The family of algorithms known as neural networks has recently experienced its resurgence under the name \"deep learning\". Despite the fact that deep learning promises great prospects in various fields of machine learning applications, deep learning algorithms, as a rule, are rigidly tied to specific use cases. In my notebook, I want to give an example of relatively simple methods, namely multilayer perceptrons for classification and regression. Multilayer perceptrons (MLP) are also called simple (vanilla) neural networks, and sometimes just neural networks."
   ]
  },
  {
   "cell_type": "markdown",
   "id": "e9c663e5",
   "metadata": {
    "papermill": {
     "duration": 0.058528,
     "end_time": "2022-05-29T14:46:55.391718",
     "exception": false,
     "start_time": "2022-05-29T14:46:55.333190",
     "status": "completed"
    },
    "tags": []
   },
   "source": [
    "#### Multilayer Perceptrons (MLP)"
   ]
  },
  {
   "cell_type": "code",
   "execution_count": null,
   "id": "44a27853",
   "metadata": {
    "papermill": {
     "duration": 1.378502,
     "end_time": "2022-05-29T14:46:56.831925",
     "exception": false,
     "start_time": "2022-05-29T14:46:55.453423",
     "status": "completed"
    },
    "tags": []
   },
   "outputs": [],
   "source": [
    "mlp=MLPClassifier(random_state=10)\n",
    "mlp.fit(X_train,y_train)\n",
    "prediction_mlp=mlp.predict(X_test)\n",
    "print('The accuracy of the MLP is',metrics.accuracy_score(prediction_mlp,y_test))"
   ]
  },
  {
   "cell_type": "markdown",
   "id": "d03ceb2a",
   "metadata": {
    "papermill": {
     "duration": 0.060815,
     "end_time": "2022-05-29T14:46:57.005938",
     "exception": false,
     "start_time": "2022-05-29T14:46:56.945123",
     "status": "completed"
    },
    "tags": []
   },
   "source": [
    "### 6.8.Pipeline\n",
    "Finally, we need to talk about the Pipeline class, a tool that allows you to combine several stages of preprocessing into one chain. In reality, machine learning projects rarely consist of just one model, most often they are a sequence of preprocessing steps. Pipelines allows you to encapsulate several stages into one python object that supports the already familiar scikit-learn interface, offering to use the fit, predict, transform methods."
   ]
  },
  {
   "cell_type": "code",
   "execution_count": null,
   "id": "2f06110e",
   "metadata": {
    "papermill": {
     "duration": 0.072262,
     "end_time": "2022-05-29T14:46:57.140040",
     "exception": false,
     "start_time": "2022-05-29T14:46:57.067778",
     "status": "completed"
    },
    "tags": []
   },
   "outputs": [],
   "source": [
    "from sklearn.preprocessing import MinMaxScaler\n",
    "from sklearn.preprocessing import StandardScaler \n",
    "from sklearn.pipeline import Pipeline\n",
    "pipe = Pipeline([('scaler', MinMaxScaler()), ('kerSVM', SVC())])"
   ]
  },
  {
   "cell_type": "code",
   "execution_count": null,
   "id": "7e31bced",
   "metadata": {
    "papermill": {
     "duration": 0.090273,
     "end_time": "2022-05-29T14:46:57.289289",
     "exception": false,
     "start_time": "2022-05-29T14:46:57.199016",
     "status": "completed"
    },
    "tags": []
   },
   "outputs": [],
   "source": [
    "pipe.fit(X_train, y_train)"
   ]
  },
  {
   "cell_type": "code",
   "execution_count": null,
   "id": "c989022a",
   "metadata": {
    "papermill": {
     "duration": 0.082542,
     "end_time": "2022-05-29T14:46:57.432789",
     "exception": false,
     "start_time": "2022-05-29T14:46:57.350247",
     "status": "completed"
    },
    "tags": []
   },
   "outputs": [],
   "source": [
    "print('Accuracy on the test set: {:.2f}'.format(pipe.score(X_test, y_test)))"
   ]
  },
  {
   "cell_type": "markdown",
   "id": "17067d25",
   "metadata": {
    "papermill": {
     "duration": 0.063241,
     "end_time": "2022-05-29T14:46:57.558698",
     "exception": false,
     "start_time": "2022-05-29T14:46:57.495457",
     "status": "completed"
    },
    "tags": []
   },
   "source": [
    "#### Convenient make_pipeline function"
   ]
  },
  {
   "cell_type": "code",
   "execution_count": null,
   "id": "89b1dda1",
   "metadata": {
    "papermill": {
     "duration": 0.073294,
     "end_time": "2022-05-29T14:46:57.695018",
     "exception": false,
     "start_time": "2022-05-29T14:46:57.621724",
     "status": "completed"
    },
    "tags": []
   },
   "outputs": [],
   "source": [
    "from sklearn.pipeline import make_pipeline\n",
    "# standard syntax:\n",
    "# pipe_long = Pipeline([('scaler', MinMaxScaler(), ('kerSVM', SVC(C=100))])\n",
    "# short syntax:\n",
    "pipe = make_pipeline(StandardScaler(), SVC(C=100))"
   ]
  },
  {
   "cell_type": "code",
   "execution_count": null,
   "id": "0215b276",
   "metadata": {
    "papermill": {
     "duration": 0.10921,
     "end_time": "2022-05-29T14:46:57.865553",
     "exception": false,
     "start_time": "2022-05-29T14:46:57.756343",
     "status": "completed"
    },
    "tags": []
   },
   "outputs": [],
   "source": [
    "pipe.fit(X_train, y_train)"
   ]
  },
  {
   "cell_type": "code",
   "execution_count": null,
   "id": "ebf988a4",
   "metadata": {
    "papermill": {
     "duration": 0.080644,
     "end_time": "2022-05-29T14:46:58.008787",
     "exception": false,
     "start_time": "2022-05-29T14:46:57.928143",
     "status": "completed"
    },
    "tags": []
   },
   "outputs": [],
   "source": [
    "print('Accuracy on the test set: {:.2f}'.format(pipe.score(X_test, y_test)))"
   ]
  },
  {
   "cell_type": "markdown",
   "id": "997147ab",
   "metadata": {
    "papermill": {
     "duration": 0.059259,
     "end_time": "2022-05-29T14:46:58.129158",
     "exception": false,
     "start_time": "2022-05-29T14:46:58.069899",
     "status": "completed"
    },
    "tags": []
   },
   "source": [
    "### 7.Creating Submission File"
   ]
  },
  {
   "cell_type": "code",
   "execution_count": null,
   "id": "4707581e",
   "metadata": {
    "papermill": {
     "duration": 0.085674,
     "end_time": "2022-05-29T14:46:58.273108",
     "exception": false,
     "start_time": "2022-05-29T14:46:58.187434",
     "status": "completed"
    },
    "tags": []
   },
   "outputs": [],
   "source": [
    "test_df"
   ]
  },
  {
   "cell_type": "code",
   "execution_count": null,
   "id": "0c1be9e0",
   "metadata": {
    "papermill": {
     "duration": 0.088773,
     "end_time": "2022-05-29T14:46:58.427006",
     "exception": false,
     "start_time": "2022-05-29T14:46:58.338233",
     "status": "completed"
    },
    "tags": []
   },
   "outputs": [],
   "source": [
    "pessId = test_df['PassengerId']"
   ]
  },
  {
   "cell_type": "code",
   "execution_count": null,
   "id": "2767a6a7",
   "metadata": {
    "papermill": {
     "duration": 0.079676,
     "end_time": "2022-05-29T14:46:58.570816",
     "exception": false,
     "start_time": "2022-05-29T14:46:58.491140",
     "status": "completed"
    },
    "tags": []
   },
   "outputs": [],
   "source": [
    "test_df.info()"
   ]
  },
  {
   "cell_type": "code",
   "execution_count": null,
   "id": "579e69b1",
   "metadata": {
    "papermill": {
     "duration": 0.0869,
     "end_time": "2022-05-29T14:46:58.718408",
     "exception": false,
     "start_time": "2022-05-29T14:46:58.631508",
     "status": "completed"
    },
    "tags": []
   },
   "outputs": [],
   "source": [
    "test_df.isnull().sum()   # we get the total number of NaN elements in X"
   ]
  },
  {
   "cell_type": "code",
   "execution_count": null,
   "id": "8c436eb8",
   "metadata": {
    "papermill": {
     "duration": 0.174318,
     "end_time": "2022-05-29T14:46:58.961047",
     "exception": false,
     "start_time": "2022-05-29T14:46:58.786729",
     "status": "completed"
    },
    "tags": []
   },
   "outputs": [],
   "source": [
    "test_df['Initial']=0\n",
    "for i in test_df:\n",
    "    test_df['Initial']=test_df.Name.str.extract('([A-Za-z]+)\\.') # lets extract the Salutations"
   ]
  },
  {
   "cell_type": "code",
   "execution_count": null,
   "id": "e7ce195a",
   "metadata": {
    "papermill": {
     "duration": 0.075203,
     "end_time": "2022-05-29T14:46:59.096826",
     "exception": false,
     "start_time": "2022-05-29T14:46:59.021623",
     "status": "completed"
    },
    "tags": []
   },
   "outputs": [],
   "source": [
    "test_df['Initial'].replace(['Mlle','Mme','Ms','Dr','Major','Lady','Countess','Jonkheer','Col','Rev','Capt','Sir','Don'],\n",
    "                      ['Miss','Miss','Miss','Mr','Mr','Mrs','Mrs','Other','Other','Other','Mr','Mr','Mr'],\n",
    "                      inplace=True)"
   ]
  },
  {
   "cell_type": "code",
   "execution_count": null,
   "id": "1678081c",
   "metadata": {
    "papermill": {
     "duration": 0.07967,
     "end_time": "2022-05-29T14:46:59.237016",
     "exception": false,
     "start_time": "2022-05-29T14:46:59.157346",
     "status": "completed"
    },
    "tags": []
   },
   "outputs": [],
   "source": [
    "# Assigning the NaN Values with the Ceil values of the mean ages\n",
    "test_df.loc[(test_df.Age.isnull())&(test_df.Initial=='Mr'),'Age']=33\n",
    "test_df.loc[(test_df.Age.isnull())&(test_df.Initial=='Mrs'),'Age']=36\n",
    "test_df.loc[(test_df.Age.isnull())&(test_df.Initial=='Master'),'Age']=5\n",
    "test_df.loc[(test_df.Age.isnull())&(test_df.Initial=='Miss'),'Age']=22\n",
    "test_df.loc[(test_df.Age.isnull())&(test_df.Initial=='Other'),'Age']=46"
   ]
  },
  {
   "cell_type": "code",
   "execution_count": null,
   "id": "0fe1dd29",
   "metadata": {
    "papermill": {
     "duration": 0.083449,
     "end_time": "2022-05-29T14:46:59.385319",
     "exception": false,
     "start_time": "2022-05-29T14:46:59.301870",
     "status": "completed"
    },
    "tags": []
   },
   "outputs": [],
   "source": [
    "test_df.Age.isnull().any() # no null values left"
   ]
  },
  {
   "cell_type": "code",
   "execution_count": null,
   "id": "e42d2d5a",
   "metadata": {
    "papermill": {
     "duration": 0.080741,
     "end_time": "2022-05-29T14:46:59.531614",
     "exception": false,
     "start_time": "2022-05-29T14:46:59.450873",
     "status": "completed"
    },
    "tags": []
   },
   "outputs": [],
   "source": [
    "test_df['Embarked'].fillna('S',inplace=True)"
   ]
  },
  {
   "cell_type": "code",
   "execution_count": null,
   "id": "f2251871",
   "metadata": {
    "papermill": {
     "duration": 0.078197,
     "end_time": "2022-05-29T14:46:59.679060",
     "exception": false,
     "start_time": "2022-05-29T14:46:59.600863",
     "status": "completed"
    },
    "tags": []
   },
   "outputs": [],
   "source": [
    "test_df.Embarked.isnull().any()# now no NaN values"
   ]
  },
  {
   "cell_type": "code",
   "execution_count": null,
   "id": "bace484f",
   "metadata": {
    "papermill": {
     "duration": 0.078129,
     "end_time": "2022-05-29T14:46:59.825284",
     "exception": false,
     "start_time": "2022-05-29T14:46:59.747155",
     "status": "completed"
    },
    "tags": []
   },
   "outputs": [],
   "source": [
    "test_df.drop(['PassengerId'],axis=1,inplace=True)"
   ]
  },
  {
   "cell_type": "code",
   "execution_count": null,
   "id": "0291fcce",
   "metadata": {
    "papermill": {
     "duration": 0.083078,
     "end_time": "2022-05-29T14:46:59.973931",
     "exception": false,
     "start_time": "2022-05-29T14:46:59.890853",
     "status": "completed"
    },
    "tags": []
   },
   "outputs": [],
   "source": [
    "test_df['Initial'].replace(['Mr','Mrs','Miss','Master','Other', 'Dona'],[0,1,2,3,4,5],inplace=True)"
   ]
  },
  {
   "cell_type": "code",
   "execution_count": null,
   "id": "73bc0f6e",
   "metadata": {
    "papermill": {
     "duration": 0.072669,
     "end_time": "2022-05-29T14:47:00.111812",
     "exception": false,
     "start_time": "2022-05-29T14:47:00.039143",
     "status": "completed"
    },
    "tags": []
   },
   "outputs": [],
   "source": [
    "test_df.drop(['Name'],axis=1,inplace=True)"
   ]
  },
  {
   "cell_type": "code",
   "execution_count": null,
   "id": "3016ce67",
   "metadata": {
    "papermill": {
     "duration": 0.069116,
     "end_time": "2022-05-29T14:47:00.241512",
     "exception": false,
     "start_time": "2022-05-29T14:47:00.172396",
     "status": "completed"
    },
    "tags": []
   },
   "outputs": [],
   "source": [
    "test_df['Sex'].replace(['male','female'],[0,1],inplace=True)"
   ]
  },
  {
   "cell_type": "code",
   "execution_count": null,
   "id": "d3463181",
   "metadata": {
    "papermill": {
     "duration": 0.08748,
     "end_time": "2022-05-29T14:47:00.389597",
     "exception": false,
     "start_time": "2022-05-29T14:47:00.302117",
     "status": "completed"
    },
    "tags": []
   },
   "outputs": [],
   "source": [
    "test_df['Age_group']=0\n",
    "test_df.loc[test_df['Age']<=16,'Age_group']=0\n",
    "test_df.loc[(test_df['Age']>16)&(test_df['Age']<=32),'Age_group']=1\n",
    "test_df.loc[(test_df['Age']>32)&(test_df['Age']<=48),'Age_group']=2\n",
    "test_df.loc[(test_df['Age']>48)&(test_df['Age']<=64),'Age_group']=3\n",
    "test_df.loc[test_df['Age']>64,'Age_group']=4\n",
    "test_df.head(3)"
   ]
  },
  {
   "cell_type": "code",
   "execution_count": null,
   "id": "a513c752",
   "metadata": {
    "papermill": {
     "duration": 0.070112,
     "end_time": "2022-05-29T14:47:00.524658",
     "exception": false,
     "start_time": "2022-05-29T14:47:00.454546",
     "status": "completed"
    },
    "tags": []
   },
   "outputs": [],
   "source": [
    "test_df.drop(['Age'],axis=1,inplace=True)"
   ]
  },
  {
   "cell_type": "code",
   "execution_count": null,
   "id": "2aeae49e",
   "metadata": {
    "papermill": {
     "duration": 0.069669,
     "end_time": "2022-05-29T14:47:00.655772",
     "exception": false,
     "start_time": "2022-05-29T14:47:00.586103",
     "status": "completed"
    },
    "tags": []
   },
   "outputs": [],
   "source": [
    "test_df.drop(['Ticket'],axis=1,inplace=True)"
   ]
  },
  {
   "cell_type": "code",
   "execution_count": null,
   "id": "b767c10b",
   "metadata": {
    "papermill": {
     "duration": 0.073069,
     "end_time": "2022-05-29T14:47:00.790439",
     "exception": false,
     "start_time": "2022-05-29T14:47:00.717370",
     "status": "completed"
    },
    "tags": []
   },
   "outputs": [],
   "source": [
    "test_df['Fare_span']=pd.qcut(test_df['Fare'],4)"
   ]
  },
  {
   "cell_type": "code",
   "execution_count": null,
   "id": "50dd502d",
   "metadata": {
    "papermill": {
     "duration": 0.074177,
     "end_time": "2022-05-29T14:47:00.924999",
     "exception": false,
     "start_time": "2022-05-29T14:47:00.850822",
     "status": "completed"
    },
    "tags": []
   },
   "outputs": [],
   "source": [
    "test_df['Fare_gap']=0\n",
    "test_df.loc[test_df['Fare']<=7.91,'Fare_gap']=0\n",
    "test_df.loc[(test_df['Fare']>7.91)&(test_df['Fare']<=14.454),'Fare_gap']=1\n",
    "test_df.loc[(test_df['Fare']>14.454)&(test_df['Fare']<=31),'Fare_gap']=2\n",
    "test_df.loc[(test_df['Fare']>31)&(test_df['Fare']<=513),'Fare_gap']=3"
   ]
  },
  {
   "cell_type": "code",
   "execution_count": null,
   "id": "17e6e637",
   "metadata": {
    "papermill": {
     "duration": 0.071108,
     "end_time": "2022-05-29T14:47:01.057217",
     "exception": false,
     "start_time": "2022-05-29T14:47:00.986109",
     "status": "completed"
    },
    "tags": []
   },
   "outputs": [],
   "source": [
    "test_df.drop(['Fare'],axis=1,inplace=True)"
   ]
  },
  {
   "cell_type": "code",
   "execution_count": null,
   "id": "bdaaca33",
   "metadata": {
    "papermill": {
     "duration": 0.068067,
     "end_time": "2022-05-29T14:47:01.184849",
     "exception": false,
     "start_time": "2022-05-29T14:47:01.116782",
     "status": "completed"
    },
    "tags": []
   },
   "outputs": [],
   "source": [
    "test_df.drop(['Fare_span'],axis=1,inplace=True)"
   ]
  },
  {
   "cell_type": "code",
   "execution_count": null,
   "id": "f7d05af4",
   "metadata": {
    "papermill": {
     "duration": 0.069231,
     "end_time": "2022-05-29T14:47:01.313270",
     "exception": false,
     "start_time": "2022-05-29T14:47:01.244039",
     "status": "completed"
    },
    "tags": []
   },
   "outputs": [],
   "source": [
    "test_df.drop(['Cabin'],axis=1,inplace=True)"
   ]
  },
  {
   "cell_type": "code",
   "execution_count": null,
   "id": "c9a68f78",
   "metadata": {
    "papermill": {
     "duration": 0.069291,
     "end_time": "2022-05-29T14:47:01.442116",
     "exception": false,
     "start_time": "2022-05-29T14:47:01.372825",
     "status": "completed"
    },
    "tags": []
   },
   "outputs": [],
   "source": [
    "test_df['Embarked'].replace(['S','C','Q'],[0,1,2],inplace=True)"
   ]
  },
  {
   "cell_type": "code",
   "execution_count": null,
   "id": "cd7b9261",
   "metadata": {
    "papermill": {
     "duration": 0.078261,
     "end_time": "2022-05-29T14:47:01.580499",
     "exception": false,
     "start_time": "2022-05-29T14:47:01.502238",
     "status": "completed"
    },
    "tags": []
   },
   "outputs": [],
   "source": [
    "test_df"
   ]
  },
  {
   "cell_type": "code",
   "execution_count": null,
   "id": "9d3d5dd6",
   "metadata": {
    "papermill": {
     "duration": 0.073421,
     "end_time": "2022-05-29T14:47:01.714106",
     "exception": false,
     "start_time": "2022-05-29T14:47:01.640685",
     "status": "completed"
    },
    "tags": []
   },
   "outputs": [],
   "source": [
    "test_X = test_df"
   ]
  },
  {
   "cell_type": "code",
   "execution_count": null,
   "id": "2d9a8433",
   "metadata": {
    "papermill": {
     "duration": 0.077135,
     "end_time": "2022-05-29T14:47:01.853535",
     "exception": false,
     "start_time": "2022-05-29T14:47:01.776400",
     "status": "completed"
    },
    "tags": []
   },
   "outputs": [],
   "source": [
    "pred_y = svm_max.predict(test_X)   # the prediction method makes a prediction for the test set specified by the kaggle.com"
   ]
  },
  {
   "cell_type": "code",
   "execution_count": null,
   "id": "5426c552",
   "metadata": {
    "papermill": {
     "duration": 0.07583,
     "end_time": "2022-05-29T14:47:01.990111",
     "exception": false,
     "start_time": "2022-05-29T14:47:01.914281",
     "status": "completed"
    },
    "tags": []
   },
   "outputs": [],
   "source": [
    "submission = pd.DataFrame({\n",
    "         'PassengerId': pessId,\n",
    "         'Survived': pred_y\n",
    "     })\n",
    "submission\n",
    "submission.to_csv('titanic.csv', index=False)"
   ]
  },
  {
   "cell_type": "markdown",
   "id": "1e32f525",
   "metadata": {
    "papermill": {
     "duration": 0.061136,
     "end_time": "2022-05-29T14:47:02.112415",
     "exception": false,
     "start_time": "2022-05-29T14:47:02.051279",
     "status": "completed"
    },
    "tags": []
   },
   "source": [
    "### 8.(if necessary) Define the Question of Interest/Goal\n",
    "I did not perform this item in this notebook."
   ]
  },
  {
   "cell_type": "markdown",
   "id": "5a580017",
   "metadata": {
    "papermill": {
     "duration": 0.059342,
     "end_time": "2022-05-29T14:47:02.231937",
     "exception": false,
     "start_time": "2022-05-29T14:47:02.172595",
     "status": "completed"
    },
    "tags": []
   },
   "source": [
    "I sincerely thank you for your interest in my notebook.\n",
    "\n",
    "I would be grateful for any feedback!"
   ]
  }
 ],
 "metadata": {
  "kernelspec": {
   "display_name": "Python 3 (ipykernel)",
   "language": "python",
   "name": "python3"
  },
  "language_info": {
   "codemirror_mode": {
    "name": "ipython",
    "version": 3
   },
   "file_extension": ".py",
   "mimetype": "text/x-python",
   "name": "python",
   "nbconvert_exporter": "python",
   "pygments_lexer": "ipython3",
   "version": "3.8.10"
  },
  "papermill": {
   "default_parameters": {},
   "duration": 78.988805,
   "end_time": "2022-05-29T14:47:03.213900",
   "environment_variables": {},
   "exception": null,
   "input_path": "__notebook__.ipynb",
   "output_path": "__notebook__.ipynb",
   "parameters": {},
   "start_time": "2022-05-29T14:45:44.225095",
   "version": "2.3.4"
  }
 },
 "nbformat": 4,
 "nbformat_minor": 5
}
